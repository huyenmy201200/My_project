{
  "nbformat": 4,
  "nbformat_minor": 0,
  "metadata": {
    "kernelspec": {
      "display_name": "Python 3",
      "language": "python",
      "name": "python3"
    },
    "language_info": {
      "codemirror_mode": {
        "name": "ipython",
        "version": 3
      },
      "file_extension": ".py",
      "mimetype": "text/x-python",
      "name": "python",
      "nbconvert_exporter": "python",
      "pygments_lexer": "ipython3",
      "version": "3.8.5"
    },
    "colab": {
      "name": "Project Customer Segmentation.ipynb",
      "provenance": []
    }
  },
  "cells": [
    {
      "cell_type": "markdown",
      "metadata": {
        "id": "zvqYiACz2QnR"
      },
      "source": [
        "<center><h1> Data Analysis for Customer Segmentation </h1></center>"
      ]
    },
    {
      "cell_type": "markdown",
      "metadata": {
        "id": "VSi-cApL2Qna"
      },
      "source": [
        "## NAN hadling"
      ]
    },
    {
      "cell_type": "code",
      "metadata": {
        "scrolled": true,
        "id": "k1VBuXNX2Qnb"
      },
      "source": [
        "from google.colab import files\n",
        "uploaded = files.upload()"
      ],
      "execution_count": null,
      "outputs": []
    },
    {
      "cell_type": "code",
      "metadata": {
        "id": "J8V1tbWEf8Kj"
      },
      "source": [
        "import io\n",
        "df = pd.read_csv(io.BytesIO(uploaded['Mall_Customers.csv']))"
      ],
      "execution_count": null,
      "outputs": []
    },
    {
      "cell_type": "code",
      "metadata": {
        "colab": {
          "base_uri": "https://localhost:8080/",
          "height": 204
        },
        "id": "dacuFrZLgWWs",
        "outputId": "d5273207-3ff0-41df-c1d5-01337876d112"
      },
      "source": [
        "df.head()"
      ],
      "execution_count": null,
      "outputs": [
        {
          "output_type": "execute_result",
          "data": {
            "text/html": [
              "<div>\n",
              "<style scoped>\n",
              "    .dataframe tbody tr th:only-of-type {\n",
              "        vertical-align: middle;\n",
              "    }\n",
              "\n",
              "    .dataframe tbody tr th {\n",
              "        vertical-align: top;\n",
              "    }\n",
              "\n",
              "    .dataframe thead th {\n",
              "        text-align: right;\n",
              "    }\n",
              "</style>\n",
              "<table border=\"1\" class=\"dataframe\">\n",
              "  <thead>\n",
              "    <tr style=\"text-align: right;\">\n",
              "      <th></th>\n",
              "      <th>CustomerID</th>\n",
              "      <th>Gender</th>\n",
              "      <th>Age</th>\n",
              "      <th>Annual Income (k$)</th>\n",
              "      <th>Spending Score (1-100)</th>\n",
              "    </tr>\n",
              "  </thead>\n",
              "  <tbody>\n",
              "    <tr>\n",
              "      <th>0</th>\n",
              "      <td>1</td>\n",
              "      <td>Male</td>\n",
              "      <td>19</td>\n",
              "      <td>15</td>\n",
              "      <td>39</td>\n",
              "    </tr>\n",
              "    <tr>\n",
              "      <th>1</th>\n",
              "      <td>2</td>\n",
              "      <td>Male</td>\n",
              "      <td>21</td>\n",
              "      <td>15</td>\n",
              "      <td>81</td>\n",
              "    </tr>\n",
              "    <tr>\n",
              "      <th>2</th>\n",
              "      <td>3</td>\n",
              "      <td>Female</td>\n",
              "      <td>20</td>\n",
              "      <td>16</td>\n",
              "      <td>6</td>\n",
              "    </tr>\n",
              "    <tr>\n",
              "      <th>3</th>\n",
              "      <td>4</td>\n",
              "      <td>Female</td>\n",
              "      <td>23</td>\n",
              "      <td>16</td>\n",
              "      <td>77</td>\n",
              "    </tr>\n",
              "    <tr>\n",
              "      <th>4</th>\n",
              "      <td>5</td>\n",
              "      <td>Female</td>\n",
              "      <td>31</td>\n",
              "      <td>17</td>\n",
              "      <td>40</td>\n",
              "    </tr>\n",
              "  </tbody>\n",
              "</table>\n",
              "</div>"
            ],
            "text/plain": [
              "   CustomerID  Gender  Age  Annual Income (k$)  Spending Score (1-100)\n",
              "0           1    Male   19                  15                      39\n",
              "1           2    Male   21                  15                      81\n",
              "2           3  Female   20                  16                       6\n",
              "3           4  Female   23                  16                      77\n",
              "4           5  Female   31                  17                      40"
            ]
          },
          "metadata": {
            "tags": []
          },
          "execution_count": 86
        }
      ]
    },
    {
      "cell_type": "code",
      "metadata": {
        "scrolled": true,
        "id": "Ba7LcvBo2Qne",
        "colab": {
          "base_uri": "https://localhost:8080/"
        },
        "outputId": "d6d3851a-e88e-4558-8659-0784734f9dd5"
      },
      "source": [
        "df.shape"
      ],
      "execution_count": null,
      "outputs": [
        {
          "output_type": "execute_result",
          "data": {
            "text/plain": [
              "(200, 5)"
            ]
          },
          "metadata": {
            "tags": []
          },
          "execution_count": 19
        }
      ]
    },
    {
      "cell_type": "code",
      "metadata": {
        "scrolled": true,
        "id": "pHei9usI2Qne",
        "colab": {
          "base_uri": "https://localhost:8080/"
        },
        "outputId": "00d8ecd1-f780-42de-d689-d40b831bce5f"
      },
      "source": [
        "df.dtypes"
      ],
      "execution_count": null,
      "outputs": [
        {
          "output_type": "execute_result",
          "data": {
            "text/plain": [
              "CustomerID                 int64\n",
              "Gender                    object\n",
              "Age                        int64\n",
              "Annual Income (k$)         int64\n",
              "Spending Score (1-100)     int64\n",
              "dtype: object"
            ]
          },
          "metadata": {
            "tags": []
          },
          "execution_count": 20
        }
      ]
    },
    {
      "cell_type": "code",
      "metadata": {
        "id": "opM4Vtd-2Qnf",
        "colab": {
          "base_uri": "https://localhost:8080/",
          "height": 297
        },
        "outputId": "f4d52ff1-e568-4f92-8d0c-b64d5f304940"
      },
      "source": [
        "df.describe()"
      ],
      "execution_count": null,
      "outputs": [
        {
          "output_type": "execute_result",
          "data": {
            "text/html": [
              "<div>\n",
              "<style scoped>\n",
              "    .dataframe tbody tr th:only-of-type {\n",
              "        vertical-align: middle;\n",
              "    }\n",
              "\n",
              "    .dataframe tbody tr th {\n",
              "        vertical-align: top;\n",
              "    }\n",
              "\n",
              "    .dataframe thead th {\n",
              "        text-align: right;\n",
              "    }\n",
              "</style>\n",
              "<table border=\"1\" class=\"dataframe\">\n",
              "  <thead>\n",
              "    <tr style=\"text-align: right;\">\n",
              "      <th></th>\n",
              "      <th>CustomerID</th>\n",
              "      <th>Age</th>\n",
              "      <th>Annual Income (k$)</th>\n",
              "      <th>Spending Score (1-100)</th>\n",
              "    </tr>\n",
              "  </thead>\n",
              "  <tbody>\n",
              "    <tr>\n",
              "      <th>count</th>\n",
              "      <td>200.000000</td>\n",
              "      <td>200.000000</td>\n",
              "      <td>200.000000</td>\n",
              "      <td>200.000000</td>\n",
              "    </tr>\n",
              "    <tr>\n",
              "      <th>mean</th>\n",
              "      <td>100.500000</td>\n",
              "      <td>38.850000</td>\n",
              "      <td>60.560000</td>\n",
              "      <td>50.200000</td>\n",
              "    </tr>\n",
              "    <tr>\n",
              "      <th>std</th>\n",
              "      <td>57.879185</td>\n",
              "      <td>13.969007</td>\n",
              "      <td>26.264721</td>\n",
              "      <td>25.823522</td>\n",
              "    </tr>\n",
              "    <tr>\n",
              "      <th>min</th>\n",
              "      <td>1.000000</td>\n",
              "      <td>18.000000</td>\n",
              "      <td>15.000000</td>\n",
              "      <td>1.000000</td>\n",
              "    </tr>\n",
              "    <tr>\n",
              "      <th>25%</th>\n",
              "      <td>50.750000</td>\n",
              "      <td>28.750000</td>\n",
              "      <td>41.500000</td>\n",
              "      <td>34.750000</td>\n",
              "    </tr>\n",
              "    <tr>\n",
              "      <th>50%</th>\n",
              "      <td>100.500000</td>\n",
              "      <td>36.000000</td>\n",
              "      <td>61.500000</td>\n",
              "      <td>50.000000</td>\n",
              "    </tr>\n",
              "    <tr>\n",
              "      <th>75%</th>\n",
              "      <td>150.250000</td>\n",
              "      <td>49.000000</td>\n",
              "      <td>78.000000</td>\n",
              "      <td>73.000000</td>\n",
              "    </tr>\n",
              "    <tr>\n",
              "      <th>max</th>\n",
              "      <td>200.000000</td>\n",
              "      <td>70.000000</td>\n",
              "      <td>137.000000</td>\n",
              "      <td>99.000000</td>\n",
              "    </tr>\n",
              "  </tbody>\n",
              "</table>\n",
              "</div>"
            ],
            "text/plain": [
              "       CustomerID         Age  Annual Income (k$)  Spending Score (1-100)\n",
              "count  200.000000  200.000000          200.000000              200.000000\n",
              "mean   100.500000   38.850000           60.560000               50.200000\n",
              "std     57.879185   13.969007           26.264721               25.823522\n",
              "min      1.000000   18.000000           15.000000                1.000000\n",
              "25%     50.750000   28.750000           41.500000               34.750000\n",
              "50%    100.500000   36.000000           61.500000               50.000000\n",
              "75%    150.250000   49.000000           78.000000               73.000000\n",
              "max    200.000000   70.000000          137.000000               99.000000"
            ]
          },
          "metadata": {
            "tags": []
          },
          "execution_count": 21
        }
      ]
    },
    {
      "cell_type": "code",
      "metadata": {
        "id": "oaHKBLK22Qnf",
        "colab": {
          "base_uri": "https://localhost:8080/"
        },
        "outputId": "9ebc28ad-10f6-4e8d-9356-c3f71a3e6803"
      },
      "source": [
        "df.dtypes"
      ],
      "execution_count": null,
      "outputs": [
        {
          "output_type": "execute_result",
          "data": {
            "text/plain": [
              "CustomerID                 int64\n",
              "Gender                    object\n",
              "Age                        int64\n",
              "Annual Income (k$)         int64\n",
              "Spending Score (1-100)     int64\n",
              "dtype: object"
            ]
          },
          "metadata": {
            "tags": []
          },
          "execution_count": 22
        }
      ]
    },
    {
      "cell_type": "code",
      "metadata": {
        "scrolled": true,
        "id": "ldSyzQfG2Qnf",
        "colab": {
          "base_uri": "https://localhost:8080/",
          "height": 390
        },
        "outputId": "33ed9061-c9b2-48d7-afd5-84b372819782"
      },
      "source": [
        "(df.isna().sum()/df.shape[0]).plot(kind='bar')"
      ],
      "execution_count": null,
      "outputs": [
        {
          "output_type": "execute_result",
          "data": {
            "text/plain": [
              "<matplotlib.axes._subplots.AxesSubplot at 0x7f4ee47f9fd0>"
            ]
          },
          "metadata": {
            "tags": []
          },
          "execution_count": 23
        },
        {
          "output_type": "display_data",
          "data": {
            "image/png": "[encoded data removed]",
            "text/plain": [
              "<Figure size 432x288 with 1 Axes>"
            ]
          },
          "metadata": {
            "tags": [],
            "needs_background": "light"
          }
        }
      ]
    },
    {
      "cell_type": "markdown",
      "metadata": {
        "id": "Ag-XNLrG2Qng"
      },
      "source": [
        "## Outliers Detection"
      ]
    },
    {
      "cell_type": "code",
      "metadata": {
        "scrolled": true,
        "id": "myFlVxrS2Qng",
        "colab": {
          "base_uri": "https://localhost:8080/"
        },
        "outputId": "fc4f4f3a-8316-4bdd-efb6-360a83efa11d"
      },
      "source": [
        "df.nunique()"
      ],
      "execution_count": null,
      "outputs": [
        {
          "output_type": "execute_result",
          "data": {
            "text/plain": [
              "CustomerID                200\n",
              "Gender                      2\n",
              "Age                        51\n",
              "Annual Income (k$)         64\n",
              "Spending Score (1-100)     84\n",
              "dtype: int64"
            ]
          },
          "metadata": {
            "tags": []
          },
          "execution_count": 24
        }
      ]
    },
    {
      "cell_type": "code",
      "metadata": {
        "id": "d4NByEOP2Qnh"
      },
      "source": [
        "categorical_vars = []\n",
        "numerical_vars = []\n",
        "for col in df.columns:\n",
        "    if df[col].dtype == object:\n",
        "        categorical_vars.append(col)\n",
        "    else:\n",
        "        numerical_vars.append(col)"
      ],
      "execution_count": null,
      "outputs": []
    },
    {
      "cell_type": "code",
      "metadata": {
        "scrolled": true,
        "id": "8oPz42qA2Qnh",
        "colab": {
          "base_uri": "https://localhost:8080/"
        },
        "outputId": "f39bb0ce-b0f0-4b50-c9d8-e1b491bd5cd9"
      },
      "source": [
        "numerical_vars"
      ],
      "execution_count": null,
      "outputs": [
        {
          "output_type": "execute_result",
          "data": {
            "text/plain": [
              "['CustomerID', 'Age', 'Annual Income (k$)', 'Spending Score (1-100)']"
            ]
          },
          "metadata": {
            "tags": []
          },
          "execution_count": 26
        }
      ]
    },
    {
      "cell_type": "markdown",
      "metadata": {
        "id": "Bl72-XxR2Qnh"
      },
      "source": [
        "### Outlier với biến rời rạc"
      ]
    },
    {
      "cell_type": "code",
      "metadata": {
        "id": "wIo66VA82Qni"
      },
      "source": [
        "stats = df[col].value_counts()"
      ],
      "execution_count": null,
      "outputs": []
    },
    {
      "cell_type": "code",
      "metadata": {
        "scrolled": false,
        "id": "FNM3LGuT2Qni",
        "colab": {
          "base_uri": "https://localhost:8080/",
          "height": 307
        },
        "outputId": "89e411c0-6d74-42ac-b785-0e6a79ac7ca5"
      },
      "source": [
        "import matplotlib.pyplot as plt\n",
        "\n",
        "for col in categorical_vars:\n",
        "    stats = df[col].value_counts()\n",
        "    stats = stats/df.shape[0]\n",
        "    outlier_values = stats[stats < 0.001]\n",
        "    if len(outlier_values) > 0:\n",
        "        print(\"Outlier detected:\", ';'.join([str(i) for i in outlier_values.index]))\n",
        "    df[col].value_counts().plot(kind='bar')\n",
        "    plt.title(f\"Value distribution of {col}\")\n",
        "    plt.show()"
      ],
      "execution_count": null,
      "outputs": [
        {
          "output_type": "display_data",
          "data": {
            "image/png": "[encoded data removed]",
            "text/plain": [
              "<Figure size 432x288 with 1 Axes>"
            ]
          },
          "metadata": {
            "tags": [],
            "needs_background": "light"
          }
        }
      ]
    },
    {
      "cell_type": "markdown",
      "metadata": {
        "id": "xTGScV4-2Qni"
      },
      "source": [
        "Biến gender không có outlier"
      ]
    },
    {
      "cell_type": "markdown",
      "metadata": {
        "id": "n4asCHaW2Qnj"
      },
      "source": [
        "### Outlier với biến liên tục"
      ]
    },
    {
      "cell_type": "code",
      "metadata": {
        "scrolled": true,
        "id": "IE2QP81y2Qnj",
        "colab": {
          "base_uri": "https://localhost:8080/",
          "height": 1000
        },
        "outputId": "b15dbfe0-46e4-43dc-a0dd-d012c381614e"
      },
      "source": [
        "for col in numerical_vars:\n",
        "    df[col].plot(kind='box')\n",
        "    plt.title(f\"Distribution of {col}\")\n",
        "    plt.show()"
      ],
      "execution_count": null,
      "outputs": [
        {
          "output_type": "display_data",
          "data": {
            "image/png": "[encoded data removed]",
            "text/plain": [
              "<Figure size 432x288 with 1 Axes>"
            ]
          },
          "metadata": {
            "tags": [],
            "needs_background": "light"
          }
        },
        {
          "output_type": "display_data",
          "data": {
            "image/png": "[encoded data removed]",
            "text/plain": [
              "<Figure size 432x288 with 1 Axes>"
            ]
          },
          "metadata": {
            "tags": [],
            "needs_background": "light"
          }
        },
        {
          "output_type": "display_data",
          "data": {
            "image/png": "[encoded data removed]",
            "text/plain": [
              "<Figure size 432x288 with 1 Axes>"
            ]
          },
          "metadata": {
            "tags": [],
            "needs_background": "light"
          }
        },
        {
          "output_type": "display_data",
          "data": {
            "image/png": "[encoded data removed]",
            "text/plain": [
              "<Figure size 432x288 with 1 Axes>"
            ]
          },
          "metadata": {
            "tags": [],
            "needs_background": "light"
          }
        }
      ]
    },
    {
      "cell_type": "code",
      "metadata": {
        "id": "IpVgWcd42Qnj"
      },
      "source": [
        "df = df.rename(columns = {'Annual Income (k$)':'Annual_Income','Spending Score (1-100)':'Spending_Score(1-100)'})"
      ],
      "execution_count": null,
      "outputs": []
    },
    {
      "cell_type": "markdown",
      "metadata": {
        "id": "-tWWvnrB2Qnk"
      },
      "source": [
        "Biến Annual Income có Outlier"
      ]
    },
    {
      "cell_type": "code",
      "metadata": {
        "scrolled": true,
        "id": "nbuNLZCN2Qnk",
        "colab": {
          "base_uri": "https://localhost:8080/",
          "height": 282
        },
        "outputId": "e2f5642b-8044-41f3-b8a2-c30e484b07f0"
      },
      "source": [
        "B = plt.boxplot(df.Annual_Income)\n",
        "[item.get_ydata() for item in B['whiskers']]"
      ],
      "execution_count": null,
      "outputs": [
        {
          "output_type": "execute_result",
          "data": {
            "text/plain": [
              "[array([41.5, 15. ]), array([ 78., 126.])]"
            ]
          },
          "metadata": {
            "tags": []
          },
          "execution_count": 31
        },
        {
          "output_type": "display_data",
          "data": {
            "image/png": "[encoded data removed]",
            "text/plain": [
              "<Figure size 432x288 with 1 Axes>"
            ]
          },
          "metadata": {
            "tags": [],
            "needs_background": "light"
          }
        }
      ]
    },
    {
      "cell_type": "code",
      "metadata": {
        "scrolled": true,
        "id": "Klo35NVL2Qnk",
        "colab": {
          "base_uri": "https://localhost:8080/"
        },
        "outputId": "5f07b60c-64b8-4901-d6e5-6a9c64dcf126"
      },
      "source": [
        "[item.get_ydata()[1] for item in B['whiskers']]"
      ],
      "execution_count": null,
      "outputs": [
        {
          "output_type": "execute_result",
          "data": {
            "text/plain": [
              "[15.0, 126.0]"
            ]
          },
          "metadata": {
            "tags": []
          },
          "execution_count": 32
        }
      ]
    },
    {
      "cell_type": "code",
      "metadata": {
        "id": "GbixL6zp2Qnl"
      },
      "source": [
        "df.drop(df.loc[df.Annual_Income > 126].index,inplace=True)"
      ],
      "execution_count": null,
      "outputs": []
    },
    {
      "cell_type": "markdown",
      "metadata": {
        "id": "psDQX8IJ2Qnl"
      },
      "source": [
        "## Phân tích nhân tố"
      ]
    },
    {
      "cell_type": "code",
      "metadata": {
        "id": "m7zkMiCO2Qnl"
      },
      "source": [
        "import matplotlib.pyplot as plt\n",
        "import seaborn as sns, numpy as np"
      ],
      "execution_count": null,
      "outputs": []
    },
    {
      "cell_type": "markdown",
      "metadata": {
        "id": "GcF9Crrl2Qnm"
      },
      "source": [
        "#### Phân tích Gender"
      ]
    },
    {
      "cell_type": "code",
      "metadata": {
        "scrolled": true,
        "id": "8pmf6T4E2Qnm",
        "colab": {
          "base_uri": "https://localhost:8080/",
          "height": 142
        },
        "outputId": "a2698259-845e-4092-cd08-cc451299158a"
      },
      "source": [
        "df1 = df.groupby('Gender').agg({'Gender':'count'})\n",
        "df1['Ratio'] = (df1.Gender/df1.Gender.sum())*100\n",
        "df1"
      ],
      "execution_count": null,
      "outputs": [
        {
          "output_type": "execute_result",
          "data": {
            "text/html": [
              "<div>\n",
              "<style scoped>\n",
              "    .dataframe tbody tr th:only-of-type {\n",
              "        vertical-align: middle;\n",
              "    }\n",
              "\n",
              "    .dataframe tbody tr th {\n",
              "        vertical-align: top;\n",
              "    }\n",
              "\n",
              "    .dataframe thead th {\n",
              "        text-align: right;\n",
              "    }\n",
              "</style>\n",
              "<table border=\"1\" class=\"dataframe\">\n",
              "  <thead>\n",
              "    <tr style=\"text-align: right;\">\n",
              "      <th></th>\n",
              "      <th>Gender</th>\n",
              "      <th>Ratio</th>\n",
              "    </tr>\n",
              "    <tr>\n",
              "      <th>Gender</th>\n",
              "      <th></th>\n",
              "      <th></th>\n",
              "    </tr>\n",
              "  </thead>\n",
              "  <tbody>\n",
              "    <tr>\n",
              "      <th>Female</th>\n",
              "      <td>112</td>\n",
              "      <td>56.565657</td>\n",
              "    </tr>\n",
              "    <tr>\n",
              "      <th>Male</th>\n",
              "      <td>86</td>\n",
              "      <td>43.434343</td>\n",
              "    </tr>\n",
              "  </tbody>\n",
              "</table>\n",
              "</div>"
            ],
            "text/plain": [
              "        Gender      Ratio\n",
              "Gender                   \n",
              "Female     112  56.565657\n",
              "Male        86  43.434343"
            ]
          },
          "metadata": {
            "tags": []
          },
          "execution_count": 35
        }
      ]
    },
    {
      "cell_type": "code",
      "metadata": {
        "scrolled": false,
        "id": "Zljzm_TI2Qnm",
        "colab": {
          "base_uri": "https://localhost:8080/",
          "height": 265
        },
        "outputId": "7a42a5ea-4e0a-4b01-9b83-b40f793cd72f"
      },
      "source": [
        "df1.Ratio.plot(kind='pie')"
      ],
      "execution_count": null,
      "outputs": [
        {
          "output_type": "execute_result",
          "data": {
            "text/plain": [
              "<matplotlib.axes._subplots.AxesSubplot at 0x7f4ed5831d50>"
            ]
          },
          "metadata": {
            "tags": []
          },
          "execution_count": 36
        },
        {
          "output_type": "display_data",
          "data": {
            "image/png": "[encoded data removed]",
            "text/plain": [
              "<Figure size 432x288 with 1 Axes>"
            ]
          },
          "metadata": {
            "tags": []
          }
        }
      ]
    },
    {
      "cell_type": "markdown",
      "metadata": {
        "id": "VziFBz8a2Qnm"
      },
      "source": [
        "Khách hàng nữ hơn 12% so với khách hàng nam"
      ]
    },
    {
      "cell_type": "markdown",
      "metadata": {
        "id": "4O3QSD7H2Qnn"
      },
      "source": [
        "### Phân tích nhóm khách hàng độ tuổi (age_band)"
      ]
    },
    {
      "cell_type": "code",
      "metadata": {
        "id": "xAW1uYdU2Qnn"
      },
      "source": [
        "def age_band(num):\n",
        "    for i in range(1, 100):\n",
        "        if num < 10*i :  return f'{(i-1) * 10} ~ {i*10}'\n",
        "\n",
        "df['age_band'] = df['Age'].apply(age_band)"
      ],
      "execution_count": null,
      "outputs": []
    },
    {
      "cell_type": "code",
      "metadata": {
        "scrolled": false,
        "id": "eFIk0DhN2Qnn",
        "colab": {
          "base_uri": "https://localhost:8080/",
          "height": 327
        },
        "outputId": "0d39da8d-bd65-41ed-839b-e4410a63908b"
      },
      "source": [
        "df2 = df.groupby(\"age_band\")['Gender'].value_counts().unstack().sort_index().fillna(0).astype(int)\n",
        "df2.plot(kind ='bar')"
      ],
      "execution_count": null,
      "outputs": [
        {
          "output_type": "execute_result",
          "data": {
            "text/plain": [
              "<matplotlib.axes._subplots.AxesSubplot at 0x7f4ed579a410>"
            ]
          },
          "metadata": {
            "tags": []
          },
          "execution_count": 38
        },
        {
          "output_type": "display_data",
          "data": {
            "image/png": "[encoded data removed]",
            "text/plain": [
              "<Figure size 432x288 with 1 Axes>"
            ]
          },
          "metadata": {
            "tags": [],
            "needs_background": "light"
          }
        }
      ]
    },
    {
      "cell_type": "markdown",
      "metadata": {
        "id": "TPbA9M9t2Qnn"
      },
      "source": [
        "## Nhận xét\n",
        "- Nhóm khách hàng chủ yếu của trung tâm thương mại là từ 30-40 cho cả nam và nữ\n",
        "- Tỷ lệ khách hàng nữ chiếm nhiều hơn so với nam ở hầu hết các nhóm tuổi ( chỉ trừ nhóm 10~20,60~70 và 70~80)"
      ]
    },
    {
      "cell_type": "code",
      "metadata": {
        "scrolled": true,
        "id": "i0zIOwcs2Qno",
        "colab": {
          "base_uri": "https://localhost:8080/",
          "height": 1000
        },
        "outputId": "dad94720-ff4f-4ed7-88b2-4b8c311f97d3"
      },
      "source": [
        "plt.figure(1,figsize=(15,6))\n",
        "n = 0\n",
        "for vars in numerical_vars:\n",
        "    n += 1\n",
        "    plt.subplot(1 , 4, n)\n",
        "    plt.subplots_adjust(hspace = 0.5, wspace = 0.5)\n",
        "    sns.distplot(df[vars], bins = 20)\n",
        "plt.show()"
      ],
      "execution_count": null,
      "outputs": [
        {
          "output_type": "stream",
          "text": [
            "/usr/local/lib/python3.7/dist-packages/seaborn/distributions.py:2557: FutureWarning: `distplot` is a deprecated function and will be removed in a future version. Please adapt your code to use either `displot` (a figure-level function with similar flexibility) or `histplot` (an axes-level function for histograms).\n",
            "  warnings.warn(msg, FutureWarning)\n",
            "/usr/local/lib/python3.7/dist-packages/seaborn/distributions.py:2557: FutureWarning: `distplot` is a deprecated function and will be removed in a future version. Please adapt your code to use either `displot` (a figure-level function with similar flexibility) or `histplot` (an axes-level function for histograms).\n",
            "  warnings.warn(msg, FutureWarning)\n"
          ],
          "name": "stderr"
        },
        {
          "output_type": "error",
          "ename": "KeyError",
          "evalue": "ignored",
          "traceback": [
            "\u001b[0;31m---------------------------------------------------------------------------\u001b[0m",
            "\u001b[0;31mKeyError\u001b[0m                                  Traceback (most recent call last)",
            "\u001b[0;32m/usr/local/lib/python3.7/dist-packages/pandas/core/indexes/base.py\u001b[0m in \u001b[0;36mget_loc\u001b[0;34m(self, key, method, tolerance)\u001b[0m\n\u001b[1;32m   2897\u001b[0m             \u001b[0;32mtry\u001b[0m\u001b[0;34m:\u001b[0m\u001b[0;34m\u001b[0m\u001b[0;34m\u001b[0m\u001b[0m\n\u001b[0;32m-> 2898\u001b[0;31m                 \u001b[0;32mreturn\u001b[0m \u001b[0mself\u001b[0m\u001b[0;34m.\u001b[0m\u001b[0m_engine\u001b[0m\u001b[0;34m.\u001b[0m\u001b[0mget_loc\u001b[0m\u001b[0;34m(\u001b[0m\u001b[0mcasted_key\u001b[0m\u001b[0;34m)\u001b[0m\u001b[0;34m\u001b[0m\u001b[0;34m\u001b[0m\u001b[0m\n\u001b[0m\u001b[1;32m   2899\u001b[0m             \u001b[0;32mexcept\u001b[0m \u001b[0mKeyError\u001b[0m \u001b[0;32mas\u001b[0m \u001b[0merr\u001b[0m\u001b[0;34m:\u001b[0m\u001b[0;34m\u001b[0m\u001b[0;34m\u001b[0m\u001b[0m\n",
            "\u001b[0;32mpandas/_libs/index.pyx\u001b[0m in \u001b[0;36mpandas._libs.index.IndexEngine.get_loc\u001b[0;34m()\u001b[0m\n",
            "\u001b[0;32mpandas/_libs/index.pyx\u001b[0m in \u001b[0;36mpandas._libs.index.IndexEngine.get_loc\u001b[0;34m()\u001b[0m\n",
            "\u001b[0;32mpandas/_libs/hashtable_class_helper.pxi\u001b[0m in \u001b[0;36mpandas._libs.hashtable.PyObjectHashTable.get_item\u001b[0;34m()\u001b[0m\n",
            "\u001b[0;32mpandas/_libs/hashtable_class_helper.pxi\u001b[0m in \u001b[0;36mpandas._libs.hashtable.PyObjectHashTable.get_item\u001b[0;34m()\u001b[0m\n",
            "\u001b[0;31mKeyError\u001b[0m: 'Annual Income (k$)'",
            "\nThe above exception was the direct cause of the following exception:\n",
            "\u001b[0;31mKeyError\u001b[0m                                  Traceback (most recent call last)",
            "\u001b[0;32m<ipython-input-39-21f8c7925bc0>\u001b[0m in \u001b[0;36m<module>\u001b[0;34m()\u001b[0m\n\u001b[1;32m      5\u001b[0m     \u001b[0mplt\u001b[0m\u001b[0;34m.\u001b[0m\u001b[0msubplot\u001b[0m\u001b[0;34m(\u001b[0m\u001b[0;36m1\u001b[0m \u001b[0;34m,\u001b[0m \u001b[0;36m4\u001b[0m\u001b[0;34m,\u001b[0m \u001b[0mn\u001b[0m\u001b[0;34m)\u001b[0m\u001b[0;34m\u001b[0m\u001b[0;34m\u001b[0m\u001b[0m\n\u001b[1;32m      6\u001b[0m     \u001b[0mplt\u001b[0m\u001b[0;34m.\u001b[0m\u001b[0msubplots_adjust\u001b[0m\u001b[0;34m(\u001b[0m\u001b[0mhspace\u001b[0m \u001b[0;34m=\u001b[0m \u001b[0;36m0.5\u001b[0m\u001b[0;34m,\u001b[0m \u001b[0mwspace\u001b[0m \u001b[0;34m=\u001b[0m \u001b[0;36m0.5\u001b[0m\u001b[0;34m)\u001b[0m\u001b[0;34m\u001b[0m\u001b[0;34m\u001b[0m\u001b[0m\n\u001b[0;32m----> 7\u001b[0;31m     \u001b[0msns\u001b[0m\u001b[0;34m.\u001b[0m\u001b[0mdistplot\u001b[0m\u001b[0;34m(\u001b[0m\u001b[0mdf\u001b[0m\u001b[0;34m[\u001b[0m\u001b[0mvars\u001b[0m\u001b[0;34m]\u001b[0m\u001b[0;34m,\u001b[0m \u001b[0mbins\u001b[0m \u001b[0;34m=\u001b[0m \u001b[0;36m20\u001b[0m\u001b[0;34m)\u001b[0m\u001b[0;34m\u001b[0m\u001b[0;34m\u001b[0m\u001b[0m\n\u001b[0m\u001b[1;32m      8\u001b[0m \u001b[0mplt\u001b[0m\u001b[0;34m.\u001b[0m\u001b[0mshow\u001b[0m\u001b[0;34m(\u001b[0m\u001b[0;34m)\u001b[0m\u001b[0;34m\u001b[0m\u001b[0;34m\u001b[0m\u001b[0m\n",
            "\u001b[0;32m/usr/local/lib/python3.7/dist-packages/pandas/core/frame.py\u001b[0m in \u001b[0;36m__getitem__\u001b[0;34m(self, key)\u001b[0m\n\u001b[1;32m   2904\u001b[0m             \u001b[0;32mif\u001b[0m \u001b[0mself\u001b[0m\u001b[0;34m.\u001b[0m\u001b[0mcolumns\u001b[0m\u001b[0;34m.\u001b[0m\u001b[0mnlevels\u001b[0m \u001b[0;34m>\u001b[0m \u001b[0;36m1\u001b[0m\u001b[0;34m:\u001b[0m\u001b[0;34m\u001b[0m\u001b[0;34m\u001b[0m\u001b[0m\n\u001b[1;32m   2905\u001b[0m                 \u001b[0;32mreturn\u001b[0m \u001b[0mself\u001b[0m\u001b[0;34m.\u001b[0m\u001b[0m_getitem_multilevel\u001b[0m\u001b[0;34m(\u001b[0m\u001b[0mkey\u001b[0m\u001b[0;34m)\u001b[0m\u001b[0;34m\u001b[0m\u001b[0;34m\u001b[0m\u001b[0m\n\u001b[0;32m-> 2906\u001b[0;31m             \u001b[0mindexer\u001b[0m \u001b[0;34m=\u001b[0m \u001b[0mself\u001b[0m\u001b[0;34m.\u001b[0m\u001b[0mcolumns\u001b[0m\u001b[0;34m.\u001b[0m\u001b[0mget_loc\u001b[0m\u001b[0;34m(\u001b[0m\u001b[0mkey\u001b[0m\u001b[0;34m)\u001b[0m\u001b[0;34m\u001b[0m\u001b[0;34m\u001b[0m\u001b[0m\n\u001b[0m\u001b[1;32m   2907\u001b[0m             \u001b[0;32mif\u001b[0m \u001b[0mis_integer\u001b[0m\u001b[0;34m(\u001b[0m\u001b[0mindexer\u001b[0m\u001b[0;34m)\u001b[0m\u001b[0;34m:\u001b[0m\u001b[0;34m\u001b[0m\u001b[0;34m\u001b[0m\u001b[0m\n\u001b[1;32m   2908\u001b[0m                 \u001b[0mindexer\u001b[0m \u001b[0;34m=\u001b[0m \u001b[0;34m[\u001b[0m\u001b[0mindexer\u001b[0m\u001b[0;34m]\u001b[0m\u001b[0;34m\u001b[0m\u001b[0;34m\u001b[0m\u001b[0m\n",
            "\u001b[0;32m/usr/local/lib/python3.7/dist-packages/pandas/core/indexes/base.py\u001b[0m in \u001b[0;36mget_loc\u001b[0;34m(self, key, method, tolerance)\u001b[0m\n\u001b[1;32m   2898\u001b[0m                 \u001b[0;32mreturn\u001b[0m \u001b[0mself\u001b[0m\u001b[0;34m.\u001b[0m\u001b[0m_engine\u001b[0m\u001b[0;34m.\u001b[0m\u001b[0mget_loc\u001b[0m\u001b[0;34m(\u001b[0m\u001b[0mcasted_key\u001b[0m\u001b[0;34m)\u001b[0m\u001b[0;34m\u001b[0m\u001b[0;34m\u001b[0m\u001b[0m\n\u001b[1;32m   2899\u001b[0m             \u001b[0;32mexcept\u001b[0m \u001b[0mKeyError\u001b[0m \u001b[0;32mas\u001b[0m \u001b[0merr\u001b[0m\u001b[0;34m:\u001b[0m\u001b[0;34m\u001b[0m\u001b[0;34m\u001b[0m\u001b[0m\n\u001b[0;32m-> 2900\u001b[0;31m                 \u001b[0;32mraise\u001b[0m \u001b[0mKeyError\u001b[0m\u001b[0;34m(\u001b[0m\u001b[0mkey\u001b[0m\u001b[0;34m)\u001b[0m \u001b[0;32mfrom\u001b[0m \u001b[0merr\u001b[0m\u001b[0;34m\u001b[0m\u001b[0;34m\u001b[0m\u001b[0m\n\u001b[0m\u001b[1;32m   2901\u001b[0m \u001b[0;34m\u001b[0m\u001b[0m\n\u001b[1;32m   2902\u001b[0m         \u001b[0;32mif\u001b[0m \u001b[0mtolerance\u001b[0m \u001b[0;32mis\u001b[0m \u001b[0;32mnot\u001b[0m \u001b[0;32mNone\u001b[0m\u001b[0;34m:\u001b[0m\u001b[0;34m\u001b[0m\u001b[0;34m\u001b[0m\u001b[0m\n",
            "\u001b[0;31mKeyError\u001b[0m: 'Annual Income (k$)'"
          ]
        },
        {
          "output_type": "display_data",
          "data": {
            "image/png": "[encoded data removed]",
            "text/plain": [
              "<Figure size 1080x432 with 3 Axes>"
            ]
          },
          "metadata": {
            "tags": [],
            "needs_background": "light"
          }
        }
      ]
    },
    {
      "cell_type": "markdown",
      "metadata": {
        "id": "P6_L2FJA2Qno"
      },
      "source": [
        "### Phân tích spending score theo gender và age_group"
      ]
    },
    {
      "cell_type": "code",
      "metadata": {
        "id": "w4Q36_Nt2Qno"
      },
      "source": [
        "df['Age_group'] = df['Age'].apply(\n",
        "    lambda x: (x <36 and 'young') or (x <56 and 'adult') or 'senior')"
      ],
      "execution_count": null,
      "outputs": []
    },
    {
      "cell_type": "code",
      "metadata": {
        "id": "CRALrQfH2Qnp"
      },
      "source": [
        "df_youth = df.loc[df.Age_group == \"young\"]\n",
        "df_adult = df.loc[df.Age_group == \"adult\"]\n",
        "df_senior= df.loc[df.Age_group == \"senior\"]"
      ],
      "execution_count": null,
      "outputs": []
    },
    {
      "cell_type": "code",
      "metadata": {
        "id": "-8Pn2kHm2Qnp",
        "colab": {
          "base_uri": "https://localhost:8080/",
          "height": 326
        },
        "outputId": "9e70c1ac-603d-4d82-a3d9-faa51e484528"
      },
      "source": [
        "fig1 = sns.kdeplot(data = df_youth[\"age_band\"], x=df_youth[\"Spending_Score(1-100)\"],hue=df_youth[\"Gender\"],multiple=\"stack\")\n",
        "fig1.figure.suptitle(\"Young\")"
      ],
      "execution_count": null,
      "outputs": [
        {
          "output_type": "execute_result",
          "data": {
            "text/plain": [
              "Text(0.5, 0.98, 'Young')"
            ]
          },
          "metadata": {
            "tags": []
          },
          "execution_count": 42
        },
        {
          "output_type": "display_data",
          "data": {
            "image/png": "[encoded data removed]",
            "text/plain": [
              "<Figure size 432x288 with 1 Axes>"
            ]
          },
          "metadata": {
            "tags": [],
            "needs_background": "light"
          }
        }
      ]
    },
    {
      "cell_type": "code",
      "metadata": {
        "scrolled": true,
        "id": "Eb7rFyqB2Qnp",
        "colab": {
          "base_uri": "https://localhost:8080/",
          "height": 297
        },
        "outputId": "2152df7a-77b9-433e-a36c-50862b6bf67a"
      },
      "source": [
        "fig2 = sns.kdeplot(data = df_adult[\"Age_group\"], x=df_adult[\"Spending_Score(1-100)\"],hue=df_adult[\"Gender\"],multiple=\"stack\")\n",
        "fig1.figure.suptitle(\"Adult\",size = 12)"
      ],
      "execution_count": null,
      "outputs": [
        {
          "output_type": "execute_result",
          "data": {
            "text/plain": [
              "Text(0.5, 0.98, 'Adult')"
            ]
          },
          "metadata": {
            "tags": []
          },
          "execution_count": 43
        },
        {
          "output_type": "display_data",
          "data": {
            "image/png": "[encoded data removed]",
            "text/plain": [
              "<Figure size 432x288 with 1 Axes>"
            ]
          },
          "metadata": {
            "tags": [],
            "needs_background": "light"
          }
        }
      ]
    },
    {
      "cell_type": "code",
      "metadata": {
        "id": "sN_UD8EB2Qnq",
        "colab": {
          "base_uri": "https://localhost:8080/",
          "height": 326
        },
        "outputId": "3775b3e0-be91-4f89-cba6-0b706f29095c"
      },
      "source": [
        "fig3 = sns.kdeplot(data = df_senior[\"Age_group\"], x=df_senior[\"Spending_Score(1-100)\"],hue=df_senior[\"Gender\"],multiple=\"stack\")\n",
        "fig3.figure.suptitle(\"Senior\",size = 12)"
      ],
      "execution_count": null,
      "outputs": [
        {
          "output_type": "execute_result",
          "data": {
            "text/plain": [
              "Text(0.5, 0.98, 'Senior')"
            ]
          },
          "metadata": {
            "tags": []
          },
          "execution_count": 44
        },
        {
          "output_type": "display_data",
          "data": {
            "image/png": "[encoded data removed]",
            "text/plain": [
              "<Figure size 432x288 with 1 Axes>"
            ]
          },
          "metadata": {
            "tags": [],
            "needs_background": "light"
          }
        }
      ]
    },
    {
      "cell_type": "markdown",
      "metadata": {
        "id": "gxCxITwc2Qnq"
      },
      "source": [
        "### Nhận xét:\n",
        "- Nhóm khách hàng trẻ (từ 18 đến 35 tuổi) có điểm tiêu dùng cao nhất. Nhóm khách hàng này thường xuyên tiêu dùng tại trung tâm mua sắm. Điểm tiêu dùng dao động từ 60 - 80 điểm trên thang 100\n",
        "- Nhóm khách hàng trưởng thành (từ 36 đến 55 tuổi) có điểm tiêu dùng thấp hơn.\n",
        "- Nhóm khách hàng senior không có điểm tiêu dùng quá 80"
      ]
    },
    {
      "cell_type": "markdown",
      "metadata": {
        "id": "9C0ksPy-2Qnq"
      },
      "source": [
        "### Phân tích annual income theo age band"
      ]
    },
    {
      "cell_type": "code",
      "metadata": {
        "scrolled": true,
        "id": "1mGB1GzM2Qnr",
        "colab": {
          "base_uri": "https://localhost:8080/",
          "height": 590
        },
        "outputId": "db0458e8-684f-4292-b372-6b2b6c4d3861"
      },
      "source": [
        "df3 = df.groupby('age_band').agg({'Annual_Income':'mean','CustomerID':'count'})\n",
        "df3.plot(kind='bar')\n",
        "df3"
      ],
      "execution_count": null,
      "outputs": [
        {
          "output_type": "execute_result",
          "data": {
            "text/html": [
              "<div>\n",
              "<style scoped>\n",
              "    .dataframe tbody tr th:only-of-type {\n",
              "        vertical-align: middle;\n",
              "    }\n",
              "\n",
              "    .dataframe tbody tr th {\n",
              "        vertical-align: top;\n",
              "    }\n",
              "\n",
              "    .dataframe thead th {\n",
              "        text-align: right;\n",
              "    }\n",
              "</style>\n",
              "<table border=\"1\" class=\"dataframe\">\n",
              "  <thead>\n",
              "    <tr style=\"text-align: right;\">\n",
              "      <th></th>\n",
              "      <th>Annual_Income</th>\n",
              "      <th>CustomerID</th>\n",
              "    </tr>\n",
              "    <tr>\n",
              "      <th>age_band</th>\n",
              "      <th></th>\n",
              "      <th></th>\n",
              "    </tr>\n",
              "  </thead>\n",
              "  <tbody>\n",
              "    <tr>\n",
              "      <th>10 ~ 20</th>\n",
              "      <td>55.083333</td>\n",
              "      <td>12</td>\n",
              "    </tr>\n",
              "    <tr>\n",
              "      <th>20 ~ 30</th>\n",
              "      <td>51.837209</td>\n",
              "      <td>43</td>\n",
              "    </tr>\n",
              "    <tr>\n",
              "      <th>30 ~ 40</th>\n",
              "      <td>67.915254</td>\n",
              "      <td>59</td>\n",
              "    </tr>\n",
              "    <tr>\n",
              "      <th>40 ~ 50</th>\n",
              "      <td>63.948718</td>\n",
              "      <td>39</td>\n",
              "    </tr>\n",
              "    <tr>\n",
              "      <th>50 ~ 60</th>\n",
              "      <td>58.680000</td>\n",
              "      <td>25</td>\n",
              "    </tr>\n",
              "    <tr>\n",
              "      <th>60 ~ 70</th>\n",
              "      <td>49.166667</td>\n",
              "      <td>18</td>\n",
              "    </tr>\n",
              "    <tr>\n",
              "      <th>70 ~ 80</th>\n",
              "      <td>47.500000</td>\n",
              "      <td>2</td>\n",
              "    </tr>\n",
              "  </tbody>\n",
              "</table>\n",
              "</div>"
            ],
            "text/plain": [
              "          Annual_Income  CustomerID\n",
              "age_band                           \n",
              "10 ~ 20       55.083333          12\n",
              "20 ~ 30       51.837209          43\n",
              "30 ~ 40       67.915254          59\n",
              "40 ~ 50       63.948718          39\n",
              "50 ~ 60       58.680000          25\n",
              "60 ~ 70       49.166667          18\n",
              "70 ~ 80       47.500000           2"
            ]
          },
          "metadata": {
            "tags": []
          },
          "execution_count": 45
        },
        {
          "output_type": "display_data",
          "data": {
            "image/png": "[encoded data removed]",
            "text/plain": [
              "<Figure size 432x288 with 1 Axes>"
            ]
          },
          "metadata": {
            "tags": [],
            "needs_background": "light"
          }
        }
      ]
    },
    {
      "cell_type": "code",
      "metadata": {
        "scrolled": true,
        "id": "bF6bibov2Qnr",
        "colab": {
          "base_uri": "https://localhost:8080/",
          "height": 460
        },
        "outputId": "b3babc9e-3d94-4be5-f266-64aed71c0381"
      },
      "source": [
        "df4 = df.groupby('Age_group').agg({'Annual_Income':'mean','CustomerID':'count'})\n",
        "df4.plot(kind='bar')\n",
        "df4"
      ],
      "execution_count": null,
      "outputs": [
        {
          "output_type": "execute_result",
          "data": {
            "text/html": [
              "<div>\n",
              "<style scoped>\n",
              "    .dataframe tbody tr th:only-of-type {\n",
              "        vertical-align: middle;\n",
              "    }\n",
              "\n",
              "    .dataframe tbody tr th {\n",
              "        vertical-align: top;\n",
              "    }\n",
              "\n",
              "    .dataframe thead th {\n",
              "        text-align: right;\n",
              "    }\n",
              "</style>\n",
              "<table border=\"1\" class=\"dataframe\">\n",
              "  <thead>\n",
              "    <tr style=\"text-align: right;\">\n",
              "      <th></th>\n",
              "      <th>Annual_Income</th>\n",
              "      <th>CustomerID</th>\n",
              "    </tr>\n",
              "    <tr>\n",
              "      <th>Age_group</th>\n",
              "      <th></th>\n",
              "      <th></th>\n",
              "    </tr>\n",
              "  </thead>\n",
              "  <tbody>\n",
              "    <tr>\n",
              "      <th>adult</th>\n",
              "      <td>64.794521</td>\n",
              "      <td>73</td>\n",
              "    </tr>\n",
              "    <tr>\n",
              "      <th>senior</th>\n",
              "      <td>53.689655</td>\n",
              "      <td>29</td>\n",
              "    </tr>\n",
              "    <tr>\n",
              "      <th>young</th>\n",
              "      <td>57.822917</td>\n",
              "      <td>96</td>\n",
              "    </tr>\n",
              "  </tbody>\n",
              "</table>\n",
              "</div>"
            ],
            "text/plain": [
              "           Annual_Income  CustomerID\n",
              "Age_group                           \n",
              "adult          64.794521          73\n",
              "senior         53.689655          29\n",
              "young          57.822917          96"
            ]
          },
          "metadata": {
            "tags": []
          },
          "execution_count": 46
        },
        {
          "output_type": "display_data",
          "data": {
            "image/png": "[encoded data removed]",
            "text/plain": [
              "<Figure size 432x288 with 1 Axes>"
            ]
          },
          "metadata": {
            "tags": [],
            "needs_background": "light"
          }
        }
      ]
    },
    {
      "cell_type": "code",
      "metadata": {
        "scrolled": false,
        "id": "FmrzCLlI2Qnr",
        "colab": {
          "base_uri": "https://localhost:8080/",
          "height": 297
        },
        "outputId": "60a0f7f5-22d2-471a-eb34-83d8b71ea54c"
      },
      "source": [
        "x = df[\"Spending_Score(1-100)\"]\n",
        "y = df[\"Annual_Income\"]\n",
        "plt.scatter(x,y)\n",
        "plt.title(\"Chỉ số tiêu dùng theo thu nhập\")\n",
        "plt.xlabel(\"Spending_Score\")\n",
        "plt.ylabel(\"Annual_Income\")\n",
        "plt.show()"
      ],
      "execution_count": null,
      "outputs": [
        {
          "output_type": "display_data",
          "data": {
            "image/png": "[encoded data removed]",
            "text/plain": [
              "<Figure size 432x288 with 1 Axes>"
            ]
          },
          "metadata": {
            "tags": [],
            "needs_background": "light"
          }
        }
      ]
    },
    {
      "cell_type": "markdown",
      "metadata": {
        "id": "p23Ltbrn2Qns"
      },
      "source": [
        "## Nhận xét:\n",
        "- Nhóm khách hàng từ 30-40 có mặt bằng thu nhập cao nhất và tiêu dùng nhiều nhất"
      ]
    },
    {
      "cell_type": "markdown",
      "metadata": {
        "id": "YkVA8r_b2Qns"
      },
      "source": [
        "## Customer segmentation with K-means"
      ]
    },
    {
      "cell_type": "code",
      "metadata": {
        "id": "tR95qXBA2Qnt"
      },
      "source": [
        "from sklearn.cluster import KMeans"
      ],
      "execution_count": null,
      "outputs": []
    },
    {
      "cell_type": "code",
      "metadata": {
        "scrolled": true,
        "id": "MXSahdo92Qnu"
      },
      "source": [
        "variables = df[['Age','Annual_Income','Spending_Score(1-100)']]"
      ],
      "execution_count": null,
      "outputs": []
    },
    {
      "cell_type": "code",
      "metadata": {
        "id": "NA1rCMxG2Qnu"
      },
      "source": [
        "from sklearn.metrics import silhouette_score"
      ],
      "execution_count": null,
      "outputs": []
    },
    {
      "cell_type": "code",
      "metadata": {
        "id": "He62KxRv2Qnu"
      },
      "source": [
        "n_clusters=[2,3,4,5,6,7,8,9,10]\n",
        "s_scores=[]\n",
        "for n in n_clusters:\n",
        "    KM_est = KMeans(n_clusters=n,init='k-means++').fit(variables)\n",
        "    silhouette_avg=silhouette_score(variables,KM_est.labels_)\n",
        "    s_scores.append(silhouette_avg)"
      ],
      "execution_count": null,
      "outputs": []
    },
    {
      "cell_type": "code",
      "metadata": {
        "scrolled": true,
        "id": "UMkURLKh2Qnv",
        "colab": {
          "base_uri": "https://localhost:8080/",
          "height": 405
        },
        "outputId": "4bafb636-38d3-483b-cb76-c0d4eea25208"
      },
      "source": [
        "fig, ax = plt.subplots(figsize=(12,5))\n",
        "ax = sns.lineplot(n_clusters,s_scores,marker='o',ax=ax)\n",
        "ax.set_title('Silhouette score method')\n",
        "ax.set_xlabel('n_clusters')\n",
        "ax.set_ylabel('silhouette score')\n",
        "plt.grid()\n",
        "plt.show()"
      ],
      "execution_count": null,
      "outputs": [
        {
          "output_type": "stream",
          "text": [
            "/usr/local/lib/python3.7/dist-packages/seaborn/_decorators.py:43: FutureWarning: Pass the following variables as keyword args: x, y. From version 0.12, the only valid positional argument will be `data`, and passing other arguments without an explicit keyword will result in an error or misinterpretation.\n",
            "  FutureWarning\n"
          ],
          "name": "stderr"
        },
        {
          "output_type": "display_data",
          "data": {
            "image/png": "[encoded data removed]",
            "text/plain": [
              "<Figure size 864x360 with 1 Axes>"
            ]
          },
          "metadata": {
            "tags": [],
            "needs_background": "light"
          }
        }
      ]
    },
    {
      "cell_type": "markdown",
      "metadata": {
        "id": "ufvHw2Ib2Qnv"
      },
      "source": [
        "Phương pháp silhouette score cho thấy số cụm phù hợp là 6"
      ]
    },
    {
      "cell_type": "markdown",
      "metadata": {
        "id": "Q1QlnRXu2Qnv"
      },
      "source": [
        "### **Cluster with KMeans**"
      ]
    },
    {
      "cell_type": "code",
      "metadata": {
        "scrolled": true,
        "id": "c7KJdxZw2Qnv",
        "colab": {
          "base_uri": "https://localhost:8080/"
        },
        "outputId": "c6b94541-2822-4da5-fc5a-aae323d4c23f"
      },
      "source": [
        "KM_clusters = KMeans(n_clusters=6,init='k-means++').fit(variables)\n",
        "KM_clustered = variables\n",
        "KM_clustered.loc[:,'Cluster']= KM_clusters.labels_"
      ],
      "execution_count": null,
      "outputs": [
        {
          "output_type": "stream",
          "text": [
            "/usr/local/lib/python3.7/dist-packages/pandas/core/indexing.py:1596: SettingWithCopyWarning: \n",
            "A value is trying to be set on a copy of a slice from a DataFrame.\n",
            "Try using .loc[row_indexer,col_indexer] = value instead\n",
            "\n",
            "See the caveats in the documentation: https://pandas.pydata.org/pandas-docs/stable/user_guide/indexing.html#returning-a-view-versus-a-copy\n",
            "  self.obj[key] = _infer_fill_value(value)\n",
            "/usr/local/lib/python3.7/dist-packages/pandas/core/indexing.py:1743: SettingWithCopyWarning: \n",
            "A value is trying to be set on a copy of a slice from a DataFrame.\n",
            "Try using .loc[row_indexer,col_indexer] = value instead\n",
            "\n",
            "See the caveats in the documentation: https://pandas.pydata.org/pandas-docs/stable/user_guide/indexing.html#returning-a-view-versus-a-copy\n",
            "  isetter(ilocs[0], value)\n"
          ],
          "name": "stderr"
        }
      ]
    },
    {
      "cell_type": "code",
      "metadata": {
        "scrolled": true,
        "id": "w1tX20hv2Qnw",
        "colab": {
          "base_uri": "https://localhost:8080/",
          "height": 423
        },
        "outputId": "549cbaae-6f54-44af-b5cb-cb9e60dd5ab8"
      },
      "source": [
        "fig11, (axes) = plt.subplots(1,2,figsize=(12,5))\n",
        "sns.scatterplot('Annual_Income', 'Spending_Score(1-100)', data=KM_clustered,\n",
        "                hue='Cluster',ax=axes[0],palette='Set1')\n",
        "sns.scatterplot('Age', 'Spending_Score(1-100)', data=KM_clustered,\n",
        "                hue='Cluster',ax=axes[1],palette='Set1')\n",
        "axes[0].scatter(KM_clusters.cluster_centers_[:,1], KM_clusters.cluster_centers_[:,2], marker='s', c=\"blue\")\n",
        "axes[1].scatter(KM_clusters.cluster_centers_[:,0], KM_clusters.cluster_centers_[:,2], marker='s', c=\"blue\")\n",
        "plt.show()"
      ],
      "execution_count": null,
      "outputs": [
        {
          "output_type": "stream",
          "text": [
            "/usr/local/lib/python3.7/dist-packages/seaborn/_decorators.py:43: FutureWarning: Pass the following variables as keyword args: x, y. From version 0.12, the only valid positional argument will be `data`, and passing other arguments without an explicit keyword will result in an error or misinterpretation.\n",
            "  FutureWarning\n",
            "/usr/local/lib/python3.7/dist-packages/seaborn/_decorators.py:43: FutureWarning: Pass the following variables as keyword args: x, y. From version 0.12, the only valid positional argument will be `data`, and passing other arguments without an explicit keyword will result in an error or misinterpretation.\n",
            "  FutureWarning\n"
          ],
          "name": "stderr"
        },
        {
          "output_type": "display_data",
          "data": {
            "image/png": "[encoded data removed]",
            "text/plain": [
              "<Figure size 864x360 with 2 Axes>"
            ]
          },
          "metadata": {
            "tags": [],
            "needs_background": "light"
          }
        }
      ]
    },
    {
      "cell_type": "code",
      "metadata": {
        "scrolled": false,
        "id": "IFUVrSR-2Qnw",
        "colab": {
          "base_uri": "https://localhost:8080/"
        },
        "outputId": "45bbc76f-efd5-4667-951b-53bd57ff0706"
      },
      "source": [
        "KM_clusters.cluster_centers_[:,1]"
      ],
      "execution_count": null,
      "outputs": [
        {
          "output_type": "execute_result",
          "data": {
            "text/plain": [
              "array([56.65789474, 25.72727273, 53.37777778, 85.21052632, 25.14285714,\n",
              "       86.79411765])"
            ]
          },
          "metadata": {
            "tags": []
          },
          "execution_count": 57
        }
      ]
    },
    {
      "cell_type": "markdown",
      "metadata": {
        "id": "6i_RCjfp2Qnx"
      },
      "source": [
        "Với số cụm là 6 thì sẽ có những nhóm khách hàng sau:\n",
        "\n",
        "0. Nhóm khách hàng với spending_score thấp (<40) và thu nhập thấp (<40)\n",
        "1. Nhóm khách hàng trẻ (20-40t) với spending_score trung bình (40-60) và thu nhập trung bình (40-60)\n",
        "2. Nhóm khách hàng trẻ (30-40t) với spending_score cao (60-100) và thu nhập cao (>80)\n",
        "3. Nhóm khách hàng với spending_score thấp (<40) và thu nhập cao (>80)\n",
        "4. Nhóm khách hàng adult (>50t) với spending_score trung bình và thu nhập trung bình\n",
        "5. Nhóm khách hàng trẻ với spending_score cao và thu nhập thấp"
      ]
    },
    {
      "cell_type": "code",
      "metadata": {
        "scrolled": true,
        "id": "pCeyir-O2Qnx",
        "colab": {
          "base_uri": "https://localhost:8080/",
          "height": 231
        },
        "outputId": "a00fcdb0-2cd7-409f-e944-e5ab33155845"
      },
      "source": [
        "df['label3'] =  labels3\n",
        "trace1 = go.Scatter3d(\n",
        "    x= df['Age'],\n",
        "    y= df['Spending_Score(1-100)'],\n",
        "    z= df['Annual_Income'],\n",
        "    mode='markers',\n",
        "     marker=dict(\n",
        "        color = df['label3'], \n",
        "        size= 20,\n",
        "        line=dict(\n",
        "            color= df['label3'],\n",
        "            width= 12\n",
        "        ),\n",
        "        opacity=0.8\n",
        "     )\n",
        ")\n",
        "data = [trace1]\n",
        "layout = go.Layout(\n",
        "    title= 'Clusters',\n",
        "    scene = dict(\n",
        "            xaxis = dict(title  = 'Age'),\n",
        "            yaxis = dict(title  = 'Spending_Score'),\n",
        "            zaxis = dict(title  = 'Annual_Income')\n",
        "        )\n",
        ")\n",
        "fig = go.Figure(data=data, layout=layout)\n",
        "py.offline.iplot(fig)"
      ],
      "execution_count": null,
      "outputs": [
        {
          "output_type": "error",
          "ename": "NameError",
          "evalue": "ignored",
          "traceback": [
            "\u001b[0;31m---------------------------------------------------------------------------\u001b[0m",
            "\u001b[0;31mNameError\u001b[0m                                 Traceback (most recent call last)",
            "\u001b[0;32m<ipython-input-60-740241c9dac2>\u001b[0m in \u001b[0;36m<module>\u001b[0;34m()\u001b[0m\n\u001b[0;32m----> 1\u001b[0;31m \u001b[0mdf\u001b[0m\u001b[0;34m[\u001b[0m\u001b[0;34m'label3'\u001b[0m\u001b[0;34m]\u001b[0m \u001b[0;34m=\u001b[0m  \u001b[0mlabels3\u001b[0m\u001b[0;34m\u001b[0m\u001b[0;34m\u001b[0m\u001b[0m\n\u001b[0m\u001b[1;32m      2\u001b[0m trace1 = go.Scatter3d(\n\u001b[1;32m      3\u001b[0m     \u001b[0mx\u001b[0m\u001b[0;34m=\u001b[0m \u001b[0mdf\u001b[0m\u001b[0;34m[\u001b[0m\u001b[0;34m'Age'\u001b[0m\u001b[0;34m]\u001b[0m\u001b[0;34m,\u001b[0m\u001b[0;34m\u001b[0m\u001b[0;34m\u001b[0m\u001b[0m\n\u001b[1;32m      4\u001b[0m     \u001b[0my\u001b[0m\u001b[0;34m=\u001b[0m \u001b[0mdf\u001b[0m\u001b[0;34m[\u001b[0m\u001b[0;34m'Spending_Score(1-100)'\u001b[0m\u001b[0;34m]\u001b[0m\u001b[0;34m,\u001b[0m\u001b[0;34m\u001b[0m\u001b[0;34m\u001b[0m\u001b[0m\n\u001b[1;32m      5\u001b[0m     \u001b[0mz\u001b[0m\u001b[0;34m=\u001b[0m \u001b[0mdf\u001b[0m\u001b[0;34m[\u001b[0m\u001b[0;34m'Annual_Income'\u001b[0m\u001b[0;34m]\u001b[0m\u001b[0;34m,\u001b[0m\u001b[0;34m\u001b[0m\u001b[0;34m\u001b[0m\u001b[0m\n",
            "\u001b[0;31mNameError\u001b[0m: name 'labels3' is not defined"
          ]
        }
      ]
    },
    {
      "cell_type": "markdown",
      "metadata": {
        "id": "vzlnLZ1U2Qny"
      },
      "source": [
        "## Cluster with K-medois"
      ]
    },
    {
      "cell_type": "code",
      "metadata": {
        "colab": {
          "base_uri": "https://localhost:8080/",
          "height": 394
        },
        "id": "aYA9IwBT3RSQ",
        "outputId": "77c8680d-d584-42ea-c917-45dd69b2c9e9"
      },
      "source": [
        "pip install -U scikit-learn-extra"
      ],
      "execution_count": null,
      "outputs": [
        {
          "output_type": "stream",
          "text": [
            "Collecting scikit-learn-extra\n",
            "\u001b[?25l  Downloading https://files.pythonhosted.org/packages/82/1e/79cd1a2b60a6cd6a7a9c4719f947e264ae391644adce3ddecf73afd5233d/scikit_learn_extra-0.2.0-cp37-cp37m-manylinux2010_x86_64.whl (1.7MB)\n",
            "\u001b[K     |████████████████████████████████| 1.7MB 7.6MB/s \n",
            "\u001b[?25hCollecting scikit-learn>=0.23.0\n",
            "\u001b[?25l  Downloading https://files.pythonhosted.org/packages/a8/eb/a48f25c967526b66d5f1fa7a984594f0bf0a5afafa94a8c4dbc317744620/scikit_learn-0.24.2-cp37-cp37m-manylinux2010_x86_64.whl (22.3MB)\n",
            "\u001b[K     |████████████████████████████████| 22.3MB 52.9MB/s \n",
            "\u001b[?25hRequirement already satisfied, skipping upgrade: scipy>=0.19.1 in /usr/local/lib/python3.7/dist-packages (from scikit-learn-extra) (1.4.1)\n",
            "Requirement already satisfied, skipping upgrade: numpy>=1.13.3 in /usr/local/lib/python3.7/dist-packages (from scikit-learn-extra) (1.19.5)\n",
            "Requirement already satisfied, skipping upgrade: joblib>=0.11 in /usr/local/lib/python3.7/dist-packages (from scikit-learn>=0.23.0->scikit-learn-extra) (1.0.1)\n",
            "Collecting threadpoolctl>=2.0.0\n",
            "  Downloading https://files.pythonhosted.org/packages/f7/12/ec3f2e203afa394a149911729357aa48affc59c20e2c1c8297a60f33f133/threadpoolctl-2.1.0-py3-none-any.whl\n",
            "Installing collected packages: threadpoolctl, scikit-learn, scikit-learn-extra\n",
            "  Found existing installation: scikit-learn 0.22.2.post1\n",
            "    Uninstalling scikit-learn-0.22.2.post1:\n",
            "      Successfully uninstalled scikit-learn-0.22.2.post1\n",
            "Successfully installed scikit-learn-0.24.2 scikit-learn-extra-0.2.0 threadpoolctl-2.1.0\n"
          ],
          "name": "stdout"
        },
        {
          "output_type": "display_data",
          "data": {
            "application/vnd.colab-display-data+json": {
              "pip_warning": {
                "packages": [
                  "sklearn"
                ]
              }
            }
          },
          "metadata": {
            "tags": []
          }
        }
      ]
    },
    {
      "cell_type": "code",
      "metadata": {
        "id": "SlJLQp0f3aXD"
      },
      "source": [
        "from sklearn_extra.cluster import KMedoids\n",
        "import numpy as np\n",
        "import pandas as pd"
      ],
      "execution_count": null,
      "outputs": []
    },
    {
      "cell_type": "code",
      "metadata": {
        "colab": {
          "resources": {
            "http://localhost:8080/nbextensions/google.colab/files.js": {
              "data": "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",
              "ok": true,
              "headers": [
                [
                  "content-type",
                  "application/javascript"
                ]
              ],
              "status": 200,
              "status_text": ""
            }
          },
          "base_uri": "https://localhost:8080/",
          "height": 72
        },
        "id": "SSiVyVPT3eR2",
        "outputId": "53480e20-8c14-45dd-db32-54bd09cd25f7"
      },
      "source": [
        "from google.colab import files\n",
        "df = files.upload()"
      ],
      "execution_count": null,
      "outputs": [
        {
          "output_type": "display_data",
          "data": {
            "text/html": [
              "\n",
              "     <input type=\"file\" id=\"files-61deea98-7851-4ba3-9c7c-d158825b166e\" name=\"files[]\" multiple disabled\n",
              "        style=\"border:none\" />\n",
              "     <output id=\"result-61deea98-7851-4ba3-9c7c-d158825b166e\">\n",
              "      Upload widget is only available when the cell has been executed in the\n",
              "      current browser session. Please rerun this cell to enable.\n",
              "      </output>\n",
              "      <script src=\"/nbextensions/google.colab/files.js\"></script> "
            ],
            "text/plain": [
              "<IPython.core.display.HTML object>"
            ]
          },
          "metadata": {
            "tags": []
          }
        },
        {
          "output_type": "stream",
          "text": [
            "Saving Mall_Customers.csv to Mall_Customers (2).csv\n"
          ],
          "name": "stdout"
        }
      ]
    },
    {
      "cell_type": "code",
      "metadata": {
        "id": "qhXNjavo3g_j"
      },
      "source": [
        "import io\n",
        "df2 = pd.read_csv(io.BytesIO(df['Mall_Customers.csv']))"
      ],
      "execution_count": null,
      "outputs": []
    },
    {
      "cell_type": "code",
      "metadata": {
        "id": "0ZB3-RrL346L"
      },
      "source": [
        "df2 = df2.rename(columns = {'Annual Income (k$)':'Annual_Income','Spending Score (1-100)':'Spending_Score(1-100)'})"
      ],
      "execution_count": null,
      "outputs": []
    },
    {
      "cell_type": "code",
      "metadata": {
        "id": "3c62z5b23-bs"
      },
      "source": [
        "variables = df2[['Age','Annual_Income','Spending_Score(1-100)']]\n",
        "KMedoids_clusters = KMedoids(n_clusters=6, init='k-medoids++').fit(variables)\n",
        "KMedoids_clustered = variables.copy()\n",
        "KMedoids_clustered.loc[:,'Cluster']= KMedoids_clusters.labels_"
      ],
      "execution_count": null,
      "outputs": []
    },
    {
      "cell_type": "code",
      "metadata": {
        "id": "pN0qF0AA4EnT"
      },
      "source": [
        "import matplotlib.pyplot as plt\n",
        "import seaborn as sns, numpy as np"
      ],
      "execution_count": null,
      "outputs": []
    },
    {
      "cell_type": "code",
      "metadata": {
        "colab": {
          "base_uri": "https://localhost:8080/",
          "height": 423
        },
        "id": "A0p-b9V44GYS",
        "outputId": "0f0fac8f-6381-4672-8ff9-550225a66684"
      },
      "source": [
        "fig11, (axes) = plt.subplots(1,2,figsize=(12,5))\n",
        "sns.scatterplot('Annual_Income', 'Spending_Score(1-100)', data=KMedoids_clustered,\n",
        "                hue='Cluster',ax=axes[0],palette='Set1')\n",
        "sns.scatterplot('Age', 'Spending_Score(1-100)', data=KMedoids_clustered,\n",
        "                hue='Cluster',ax=axes[1],palette='Set1')\n",
        "axes[0].scatter(KMedoids_clusters.cluster_centers_[:,1], KMedoids_clusters.cluster_centers_[:,2], marker='s', c=\"blue\")\n",
        "axes[1].scatter(KMedoids_clusters.cluster_centers_[:,0], KMedoids_clusters.cluster_centers_[:,2], marker='s', c=\"blue\")\n",
        "plt.show()"
      ],
      "execution_count": null,
      "outputs": [
        {
          "output_type": "stream",
          "text": [
            "/usr/local/lib/python3.7/dist-packages/seaborn/_decorators.py:43: FutureWarning: Pass the following variables as keyword args: x, y. From version 0.12, the only valid positional argument will be `data`, and passing other arguments without an explicit keyword will result in an error or misinterpretation.\n",
            "  FutureWarning\n",
            "/usr/local/lib/python3.7/dist-packages/seaborn/_decorators.py:43: FutureWarning: Pass the following variables as keyword args: x, y. From version 0.12, the only valid positional argument will be `data`, and passing other arguments without an explicit keyword will result in an error or misinterpretation.\n",
            "  FutureWarning\n"
          ],
          "name": "stderr"
        },
        {
          "output_type": "display_data",
          "data": {
            "image/png": "[encoded data removed]",
            "text/plain": [
              "<Figure size 864x360 with 2 Axes>"
            ]
          },
          "metadata": {
            "tags": [],
            "needs_background": "light"
          }
        }
      ]
    },
    {
      "cell_type": "markdown",
      "metadata": {
        "id": "b8-s0nhg2Qny"
      },
      "source": [
        "## Clustering with PCA"
      ]
    },
    {
      "cell_type": "code",
      "metadata": {
        "id": "1P7dtrES2Qnz",
        "colab": {
          "base_uri": "https://localhost:8080/"
        },
        "outputId": "98f2a873-3c91-4270-8f49-7a8cf1aa8ff8"
      },
      "source": [
        "## Step1: Find the principal components!\n",
        "from sklearn.decomposition import PCA\n",
        "pca = PCA(n_components = 4)\n",
        "pca.fit(variables)\n",
        "pca.explained_variance_ratio_"
      ],
      "execution_count": null,
      "outputs": [
        {
          "output_type": "execute_result",
          "data": {
            "text/plain": [
              "array([0.45069884, 0.44023545, 0.10758015, 0.00148555])"
            ]
          },
          "metadata": {
            "tags": []
          },
          "execution_count": 71
        }
      ]
    },
    {
      "cell_type": "code",
      "metadata": {
        "id": "cOpTwCIJ2Qnz",
        "colab": {
          "base_uri": "https://localhost:8080/"
        },
        "outputId": "7ca38be8-8374-4178-ba2a-033eff66fed6"
      },
      "source": [
        "pca.components_"
      ],
      "execution_count": null,
      "outputs": [
        {
          "output_type": "execute_result",
          "data": {
            "text/plain": [
              "array([[-0.18871029,  0.58973185,  0.78493845,  0.02182675],\n",
              "       [ 0.13126106,  0.80745566, -0.57513758,  0.00163084],\n",
              "       [ 0.97322033,  0.00546248,  0.22979092,  0.002912  ],\n",
              "       [-0.00107111,  0.01420814,  0.01686796, -0.9997562 ]])"
            ]
          },
          "metadata": {
            "tags": []
          },
          "execution_count": 72
        }
      ]
    },
    {
      "cell_type": "code",
      "metadata": {
        "id": "KxEIYxp02Qnz",
        "colab": {
          "base_uri": "https://localhost:8080/",
          "height": 173
        },
        "outputId": "4abb849b-1a4b-4f24-87cd-7033dd6df5bb"
      },
      "source": [
        "dimensions = ['Dimension{}'.format(i) for i in range(1,len(pca.components_)+1)]\n",
        "components = pd.DataFrame(pca.components_,columns=variables.columns)\n",
        "components.index = dimensions\n",
        "variance = pd.DataFrame(pca.explained_variance_ratio_,columns=['Explained Variance'])\n",
        "variance.index = dimensions\n",
        "pd.concat([variance,components],axis=1)"
      ],
      "execution_count": null,
      "outputs": [
        {
          "output_type": "execute_result",
          "data": {
            "text/html": [
              "<div>\n",
              "<style scoped>\n",
              "    .dataframe tbody tr th:only-of-type {\n",
              "        vertical-align: middle;\n",
              "    }\n",
              "\n",
              "    .dataframe tbody tr th {\n",
              "        vertical-align: top;\n",
              "    }\n",
              "\n",
              "    .dataframe thead th {\n",
              "        text-align: right;\n",
              "    }\n",
              "</style>\n",
              "<table border=\"1\" class=\"dataframe\">\n",
              "  <thead>\n",
              "    <tr style=\"text-align: right;\">\n",
              "      <th></th>\n",
              "      <th>Explained Variance</th>\n",
              "      <th>Age</th>\n",
              "      <th>Annual_Income</th>\n",
              "      <th>Spending_Score(1-100)</th>\n",
              "      <th>Cluster</th>\n",
              "    </tr>\n",
              "  </thead>\n",
              "  <tbody>\n",
              "    <tr>\n",
              "      <th>Dimension1</th>\n",
              "      <td>0.450699</td>\n",
              "      <td>-0.188710</td>\n",
              "      <td>0.589732</td>\n",
              "      <td>0.784938</td>\n",
              "      <td>0.021827</td>\n",
              "    </tr>\n",
              "    <tr>\n",
              "      <th>Dimension2</th>\n",
              "      <td>0.440235</td>\n",
              "      <td>0.131261</td>\n",
              "      <td>0.807456</td>\n",
              "      <td>-0.575138</td>\n",
              "      <td>0.001631</td>\n",
              "    </tr>\n",
              "    <tr>\n",
              "      <th>Dimension3</th>\n",
              "      <td>0.107580</td>\n",
              "      <td>0.973220</td>\n",
              "      <td>0.005462</td>\n",
              "      <td>0.229791</td>\n",
              "      <td>0.002912</td>\n",
              "    </tr>\n",
              "    <tr>\n",
              "      <th>Dimension4</th>\n",
              "      <td>0.001486</td>\n",
              "      <td>-0.001071</td>\n",
              "      <td>0.014208</td>\n",
              "      <td>0.016868</td>\n",
              "      <td>-0.999756</td>\n",
              "    </tr>\n",
              "  </tbody>\n",
              "</table>\n",
              "</div>"
            ],
            "text/plain": [
              "            Explained Variance       Age  ...  Spending_Score(1-100)   Cluster\n",
              "Dimension1            0.450699 -0.188710  ...               0.784938  0.021827\n",
              "Dimension2            0.440235  0.131261  ...              -0.575138  0.001631\n",
              "Dimension3            0.107580  0.973220  ...               0.229791  0.002912\n",
              "Dimension4            0.001486 -0.001071  ...               0.016868 -0.999756\n",
              "\n",
              "[4 rows x 5 columns]"
            ]
          },
          "metadata": {
            "tags": []
          },
          "execution_count": 73
        }
      ]
    },
    {
      "cell_type": "code",
      "metadata": {
        "scrolled": true,
        "id": "Hmp0aSSH2Qnz",
        "colab": {
          "base_uri": "https://localhost:8080/",
          "height": 606
        },
        "outputId": "bb826810-04ff-4839-9b92-707467bc4218"
      },
      "source": [
        "import matplotlib.pyplot as plt\n",
        "fig, ax = plt.subplots(figsize=(16,9))\n",
        "components.plot(kind='bar', ax=ax)\n",
        "ax.set_xticklabels(dimensions)\n",
        "for i,variance in enumerate(pca.explained_variance_ratio_):\n",
        "    ax.text(i,ax.get_ylim()[1]+0.05,'Explained variance {}'.format(np.round(variance,4)))\n",
        "plt.show()"
      ],
      "execution_count": null,
      "outputs": [
        {
          "output_type": "display_data",
          "data": {
            "image/png": "[encoded data removed]",
            "text/plain": [
              "<Figure size 1152x648 with 1 Axes>"
            ]
          },
          "metadata": {
            "tags": [],
            "needs_background": "light"
          }
        }
      ]
    },
    {
      "cell_type": "markdown",
      "metadata": {
        "id": "rAy8hVXJ2Qn0"
      },
      "source": [
        "=> Chọn PCA_components = 2"
      ]
    },
    {
      "cell_type": "code",
      "metadata": {
        "id": "LHLC66Vb2Qn0"
      },
      "source": [
        "from sklearn.preprocessing import StandardScaler\n",
        "data_tx=StandardScaler().fit_transform(variables)"
      ],
      "execution_count": null,
      "outputs": []
    },
    {
      "cell_type": "code",
      "metadata": {
        "id": "iiY_wXyd2Qn0"
      },
      "source": [
        "k_inertia=[]\n",
        "\n",
        "for i in range(1, 11):\n",
        "    km=KMeans(n_clusters=6, n_init=10, init='k-means++')\n",
        "    km.fit(data_tx)\n",
        "    k_inertia.append(km.inertia_)"
      ],
      "execution_count": null,
      "outputs": []
    },
    {
      "cell_type": "code",
      "metadata": {
        "id": "9DOqbxb42Qn0",
        "colab": {
          "base_uri": "https://localhost:8080/"
        },
        "outputId": "d6d097d8-0953-4a0a-b192-26340b466d86"
      },
      "source": [
        "pca = PCA(n_components = 2)\n",
        "reduced_data = pca.fit_transform(data_tx)\n",
        "reduced_data"
      ],
      "execution_count": null,
      "outputs": [
        {
          "output_type": "execute_result",
          "data": {
            "text/plain": [
              "array([[ 0.45483685,  1.45917969],\n",
              "       [ 0.04169008,  2.85830152],\n",
              "       [-0.3581185 ,  1.011009  ],\n",
              "       [-0.11569012,  2.71804365],\n",
              "       [ 0.06572347,  1.02414137],\n",
              "       [-0.09313264,  2.71056869],\n",
              "       [-0.87946592,  0.46666603],\n",
              "       [ 0.31035446,  2.86109344],\n",
              "       [-1.98843445, -0.53994242],\n",
              "       [-0.45699543,  2.34692209],\n",
              "       [-1.83444675, -0.50837755],\n",
              "       [ 0.00636645,  2.5012693 ],\n",
              "       [-1.47516634, -0.23219954],\n",
              "       [-0.11069001,  2.57249109],\n",
              "       [-0.7641943 ,  0.42728087],\n",
              "       [ 0.00926844,  2.66101302],\n",
              "       [-0.15691772,  0.72232765],\n",
              "       [-0.21826841,  2.54519038],\n",
              "       [-0.89363085,  0.04250623],\n",
              "       [ 0.02364216,  2.37649945],\n",
              "       [-0.12607208,  0.6375546 ],\n",
              "       [-0.20109715,  2.37998202],\n",
              "       [-1.22874611, -0.10061711],\n",
              "       [-0.40757974,  2.15659329],\n",
              "       [-1.27225346, -0.33991275],\n",
              "       [-0.08981296,  2.24251607],\n",
              "       [-0.51777412,  0.16408809],\n",
              "       [-0.8074655 ,  1.80086337],\n",
              "       [-0.35070699,  0.28670049],\n",
              "       [ 0.25649246,  2.46808507],\n",
              "       [-1.70697229, -0.70895042],\n",
              "       [ 0.00510379,  2.3405233 ],\n",
              "       [-1.42323476, -0.56607057],\n",
              "       [ 0.59751611,  2.57635918],\n",
              "       [-1.04020699, -0.31859195],\n",
              "       [ 0.22676393,  2.34966327],\n",
              "       [-0.70547778, -0.08397936],\n",
              "       [-0.2789154 ,  1.93479601],\n",
              "       [-0.24320135,  0.13203077],\n",
              "       [ 0.16090799,  2.19871962],\n",
              "       [-1.73728216, -0.24814705],\n",
              "       [ 0.43216103,  2.23993973],\n",
              "       [-1.08898245,  0.28820569],\n",
              "       [ 0.45714589,  0.89177459],\n",
              "       [-0.64459033, -0.32379027],\n",
              "       [-0.20155602,  1.89472564],\n",
              "       [-0.69777096,  0.41794773],\n",
              "       [ 0.27801205,  0.8292565 ],\n",
              "       [ 0.08649816,  0.70551719],\n",
              "       [ 0.01424334,  0.64047351],\n",
              "       [-0.71263522,  0.35873683],\n",
              "       [ 0.3918849 ,  0.73021874],\n",
              "       [ 0.33131073,  0.69656998],\n",
              "       [-0.87281297,  0.09917375],\n",
              "       [-0.90544344,  0.21578342],\n",
              "       [-0.89246845,  0.26639244],\n",
              "       [-0.81202991,  0.21369953],\n",
              "       [-1.55773059, -0.41865011],\n",
              "       [ 0.43511058,  0.70666692],\n",
              "       [-0.95912822,  0.04518398],\n",
              "       [-1.33477611, -0.39029605],\n",
              "       [ 0.81953713,  1.01379815],\n",
              "       [-1.31151925, -0.36794471],\n",
              "       [-0.67490019,  0.1370131 ],\n",
              "       [-1.18057953, -0.27785416],\n",
              "       [ 0.97163556,  1.03676114],\n",
              "       [-0.48188309,  0.36084353],\n",
              "       [-1.43277203, -0.47568074],\n",
              "       [ 0.93550815,  1.0042393 ],\n",
              "       [ 0.17963003,  0.44058585],\n",
              "       [-1.32778228, -0.48680822],\n",
              "       [-0.80692536,  0.10858548],\n",
              "       [-1.09933715, -0.26028225],\n",
              "       [-0.93237446, -0.17810836],\n",
              "       [-1.06978584, -0.36426938],\n",
              "       [ 0.62504848,  0.5483447 ],\n",
              "       [-0.42089119,  0.16147115],\n",
              "       [-0.02384617,  0.02260417],\n",
              "       [ 0.68572709,  0.62243197],\n",
              "       [-0.82777078, -0.09774661],\n",
              "       [-0.90212377, -0.2522692 ],\n",
              "       [ 0.21537134,  0.16982173],\n",
              "       [-1.50191602, -0.69487887],\n",
              "       [-0.67168492,  0.02329717],\n",
              "       [ 0.87724098,  0.74617128],\n",
              "       [-0.69623612, -0.01826826],\n",
              "       [-0.63206061, -0.18982467],\n",
              "       [ 0.82425558,  0.60539814],\n",
              "       [ 0.52026758,  0.245574  ],\n",
              "       [-0.72736342, -0.19634267],\n",
              "       [-1.15270865, -0.70434135],\n",
              "       [ 0.65540362,  0.51462238],\n",
              "       [-0.56298939, -0.15259697],\n",
              "       [-0.15296939, -0.24085493],\n",
              "       [ 0.18375354,  0.04279805],\n",
              "       [ 0.71129096,  0.42036404],\n",
              "       [-0.57456561, -0.14355338],\n",
              "       [ 0.5552051 ,  0.29932026],\n",
              "       [-0.7196702 , -0.26302853],\n",
              "       [ 0.79452706,  0.48697634],\n",
              "       [ 0.5056122 ,  0.26724013],\n",
              "       [-0.60240486, -0.2533733 ],\n",
              "       [-0.99032835, -0.70963604],\n",
              "       [ 0.73115534,  0.33402237],\n",
              "       [-0.41159036, -0.15946029],\n",
              "       [ 0.60171884,  0.34402294],\n",
              "       [-1.15858537, -0.81102402],\n",
              "       [-0.82046366, -0.46771843],\n",
              "       [-1.39780288, -0.95824159],\n",
              "       [-1.20628899, -0.83450227],\n",
              "       [-1.07475433, -0.75502393],\n",
              "       [ 0.97047729,  0.52167845],\n",
              "       [ 0.00811659, -0.26536372],\n",
              "       [ 0.78994467,  0.39950776],\n",
              "       [ 0.88405759,  0.42725017],\n",
              "       [ 0.89563381,  0.41820659],\n",
              "       [-1.19660205, -0.85214774],\n",
              "       [-0.30918928, -0.20901595],\n",
              "       [-0.74250934, -0.51840102],\n",
              "       [-0.37245655, -0.32153141],\n",
              "       [ 0.77028914,  0.17195125],\n",
              "       [-0.0087414 , -0.37361502],\n",
              "       [ 0.36890016, -0.28386979],\n",
              "       [ 1.86347143, -0.34951788],\n",
              "       [ 0.3016455 , -0.09969084],\n",
              "       [ 1.82884723, -0.2819486 ],\n",
              "       [-0.93884404, -0.22238947],\n",
              "       [ 1.94331503, -0.39159858],\n",
              "       [-2.08932614, -1.02447796],\n",
              "       [ 1.5385336 , -0.56133742],\n",
              "       [-1.70350081, -0.65769412],\n",
              "       [ 1.50240619, -0.59385926],\n",
              "       [ 0.36921349, -0.16255425],\n",
              "       [ 1.70630012, -0.40889872],\n",
              "       [-0.80290416,  0.11692372],\n",
              "       [ 2.19431764, -0.17254757],\n",
              "       [-1.62225844, -0.64012221],\n",
              "       [ 1.72815821, -0.44619999],\n",
              "       [-0.63723581,  0.17988351],\n",
              "       [ 1.60620604, -0.58376232],\n",
              "       [-2.11905467, -1.14289976],\n",
              "       [ 2.22575822, -0.26793283],\n",
              "       [ 0.44506965, -0.30271574],\n",
              "       [ 2.09292923, -0.36662527],\n",
              "       [-0.77545101, -0.07654233],\n",
              "       [ 2.48623889, -0.14740432],\n",
              "       [-1.033938  , -0.54280563],\n",
              "       [ 1.79313755, -0.54749159],\n",
              "       [-0.85179772, -0.28010531],\n",
              "       [ 2.1127936 , -0.45296693],\n",
              "       [-1.2962035 , -0.63149751],\n",
              "       [ 1.88445292, -0.63905439],\n",
              "       [-1.26077547, -0.62880197],\n",
              "       [ 1.63435858, -0.74740206],\n",
              "       [-1.46456496, -0.773324  ],\n",
              "       [ 2.34183368, -0.23705317],\n",
              "       [-1.46106802, -0.62419249],\n",
              "       [ 1.9710815 , -0.46374908],\n",
              "       [-1.35268578, -0.52662696],\n",
              "       [ 1.85182244, -0.52244472],\n",
              "       [-1.32624535, -0.87123485],\n",
              "       [ 2.13674986, -0.40078929],\n",
              "       [-0.6845217 , -0.07661589],\n",
              "       [ 2.32357692, -0.40495707],\n",
              "       [-1.26245591, -0.95130203],\n",
              "       [ 1.75473476, -0.89190127],\n",
              "       [-1.1062656 , -0.78981974],\n",
              "       [ 2.35043512, -0.58781091],\n",
              "       [-0.71225656, -0.54077249],\n",
              "       [ 1.63358642, -0.95919879],\n",
              "       [-1.19069158, -0.83520762],\n",
              "       [ 2.06431782, -0.68824191],\n",
              "       [-1.11773737, -0.74033764],\n",
              "       [ 2.18077933, -0.74885149],\n",
              "       [-1.61393865, -1.25372739],\n",
              "       [ 2.26471481, -0.65241288],\n",
              "       [-1.7829995 , -1.42538019],\n",
              "       [ 1.96761624, -0.75441251],\n",
              "       [-1.79156932, -1.61092956],\n",
              "       [ 2.2308944 , -0.90935399],\n",
              "       [-0.5263061 , -0.79717551],\n",
              "       [ 2.28499691, -0.97177569],\n",
              "       [-1.24665174, -1.3176949 ],\n",
              "       [ 2.45136466, -0.8789896 ],\n",
              "       [-0.4832893 , -0.90160435],\n",
              "       [ 2.64018544, -0.83411698],\n",
              "       [-1.29015909, -1.55699054],\n",
              "       [ 2.04130146, -1.16602333],\n",
              "       [-0.96690165, -1.27289585],\n",
              "       [ 2.17832673, -1.28314827],\n",
              "       [-0.57089889, -0.97480821],\n",
              "       [ 1.94120738, -1.34088693],\n",
              "       [-0.78972986, -1.40095007],\n",
              "       [ 2.35200159, -1.560334  ],\n",
              "       [-1.03272597, -1.9601466 ],\n",
              "       [ 2.24613524, -1.80144176],\n",
              "       [-0.61255811, -1.92377949],\n",
              "       [ 2.2969497 , -1.93211796],\n",
              "       [-0.26831918, -1.92922131],\n",
              "       [ 2.69697153, -2.07225663]])"
            ]
          },
          "metadata": {
            "tags": []
          },
          "execution_count": 77
        }
      ]
    },
    {
      "cell_type": "code",
      "metadata": {
        "scrolled": true,
        "id": "JCxnRLgt2Qn1",
        "colab": {
          "base_uri": "https://localhost:8080/",
          "height": 204
        },
        "outputId": "913ac3c6-2a27-4f84-e755-7afd95846f9a"
      },
      "source": [
        "reduced_data = pd.DataFrame(reduced_data, columns=['PC1','PC2'])\n",
        "reduced_data.head()"
      ],
      "execution_count": null,
      "outputs": [
        {
          "output_type": "execute_result",
          "data": {
            "text/html": [
              "<div>\n",
              "<style scoped>\n",
              "    .dataframe tbody tr th:only-of-type {\n",
              "        vertical-align: middle;\n",
              "    }\n",
              "\n",
              "    .dataframe tbody tr th {\n",
              "        vertical-align: top;\n",
              "    }\n",
              "\n",
              "    .dataframe thead th {\n",
              "        text-align: right;\n",
              "    }\n",
              "</style>\n",
              "<table border=\"1\" class=\"dataframe\">\n",
              "  <thead>\n",
              "    <tr style=\"text-align: right;\">\n",
              "      <th></th>\n",
              "      <th>PC1</th>\n",
              "      <th>PC2</th>\n",
              "    </tr>\n",
              "  </thead>\n",
              "  <tbody>\n",
              "    <tr>\n",
              "      <th>0</th>\n",
              "      <td>0.454837</td>\n",
              "      <td>1.459180</td>\n",
              "    </tr>\n",
              "    <tr>\n",
              "      <th>1</th>\n",
              "      <td>0.041690</td>\n",
              "      <td>2.858302</td>\n",
              "    </tr>\n",
              "    <tr>\n",
              "      <th>2</th>\n",
              "      <td>-0.358118</td>\n",
              "      <td>1.011009</td>\n",
              "    </tr>\n",
              "    <tr>\n",
              "      <th>3</th>\n",
              "      <td>-0.115690</td>\n",
              "      <td>2.718044</td>\n",
              "    </tr>\n",
              "    <tr>\n",
              "      <th>4</th>\n",
              "      <td>0.065723</td>\n",
              "      <td>1.024141</td>\n",
              "    </tr>\n",
              "  </tbody>\n",
              "</table>\n",
              "</div>"
            ],
            "text/plain": [
              "        PC1       PC2\n",
              "0  0.454837  1.459180\n",
              "1  0.041690  2.858302\n",
              "2 -0.358118  1.011009\n",
              "3 -0.115690  2.718044\n",
              "4  0.065723  1.024141"
            ]
          },
          "metadata": {
            "tags": []
          },
          "execution_count": 78
        }
      ]
    },
    {
      "cell_type": "code",
      "metadata": {
        "scrolled": true,
        "id": "CMMb1j8K2Qn1",
        "colab": {
          "base_uri": "https://localhost:8080/"
        },
        "outputId": "a017deab-f2fa-4c9d-c38c-e3383e1745dc"
      },
      "source": [
        "clusters = km.predict(data_tx)\n",
        "clusters"
      ],
      "execution_count": null,
      "outputs": [
        {
          "output_type": "execute_result",
          "data": {
            "text/plain": [
              "array([4, 3, 5, 3, 5, 3, 5, 3, 5, 3, 5, 3, 5, 3, 5, 3, 5, 3, 5, 3, 5, 3,\n",
              "       5, 3, 5, 3, 5, 3, 5, 3, 5, 3, 5, 3, 5, 3, 5, 3, 5, 3, 1, 3, 1, 4,\n",
              "       5, 3, 1, 4, 4, 4, 1, 4, 4, 1, 1, 1, 1, 1, 4, 1, 1, 4, 1, 1, 1, 4,\n",
              "       1, 1, 4, 4, 1, 1, 1, 1, 1, 4, 1, 4, 4, 1, 1, 4, 1, 1, 4, 1, 1, 4,\n",
              "       4, 1, 1, 4, 1, 4, 4, 4, 1, 4, 1, 4, 4, 1, 1, 4, 1, 4, 1, 1, 1, 1,\n",
              "       1, 4, 4, 4, 4, 4, 1, 1, 1, 1, 4, 4, 4, 2, 4, 2, 0, 2, 0, 2, 0, 2,\n",
              "       4, 2, 0, 2, 0, 2, 0, 2, 0, 2, 4, 2, 0, 2, 0, 2, 0, 2, 0, 2, 0, 2,\n",
              "       0, 2, 0, 2, 0, 2, 1, 2, 0, 2, 0, 2, 0, 2, 0, 2, 0, 2, 0, 2, 0, 2,\n",
              "       0, 2, 0, 2, 0, 2, 0, 2, 0, 2, 0, 2, 0, 2, 0, 2, 0, 2, 0, 2, 0, 2,\n",
              "       0, 2], dtype=int32)"
            ]
          },
          "metadata": {
            "tags": []
          },
          "execution_count": 79
        }
      ]
    },
    {
      "cell_type": "code",
      "metadata": {
        "scrolled": false,
        "id": "0HXMxI1q2Qn1",
        "colab": {
          "base_uri": "https://localhost:8080/",
          "height": 204
        },
        "outputId": "4db78ff7-b17a-4c2a-f32c-426d8c84334e"
      },
      "source": [
        "reduced_data['clusters'] = clusters\n",
        "reduced_data.head()"
      ],
      "execution_count": null,
      "outputs": [
        {
          "output_type": "execute_result",
          "data": {
            "text/html": [
              "<div>\n",
              "<style scoped>\n",
              "    .dataframe tbody tr th:only-of-type {\n",
              "        vertical-align: middle;\n",
              "    }\n",
              "\n",
              "    .dataframe tbody tr th {\n",
              "        vertical-align: top;\n",
              "    }\n",
              "\n",
              "    .dataframe thead th {\n",
              "        text-align: right;\n",
              "    }\n",
              "</style>\n",
              "<table border=\"1\" class=\"dataframe\">\n",
              "  <thead>\n",
              "    <tr style=\"text-align: right;\">\n",
              "      <th></th>\n",
              "      <th>PC1</th>\n",
              "      <th>PC2</th>\n",
              "      <th>clusters</th>\n",
              "    </tr>\n",
              "  </thead>\n",
              "  <tbody>\n",
              "    <tr>\n",
              "      <th>0</th>\n",
              "      <td>0.454837</td>\n",
              "      <td>1.459180</td>\n",
              "      <td>4</td>\n",
              "    </tr>\n",
              "    <tr>\n",
              "      <th>1</th>\n",
              "      <td>0.041690</td>\n",
              "      <td>2.858302</td>\n",
              "      <td>3</td>\n",
              "    </tr>\n",
              "    <tr>\n",
              "      <th>2</th>\n",
              "      <td>-0.358118</td>\n",
              "      <td>1.011009</td>\n",
              "      <td>5</td>\n",
              "    </tr>\n",
              "    <tr>\n",
              "      <th>3</th>\n",
              "      <td>-0.115690</td>\n",
              "      <td>2.718044</td>\n",
              "      <td>3</td>\n",
              "    </tr>\n",
              "    <tr>\n",
              "      <th>4</th>\n",
              "      <td>0.065723</td>\n",
              "      <td>1.024141</td>\n",
              "      <td>5</td>\n",
              "    </tr>\n",
              "  </tbody>\n",
              "</table>\n",
              "</div>"
            ],
            "text/plain": [
              "        PC1       PC2  clusters\n",
              "0  0.454837  1.459180         4\n",
              "1  0.041690  2.858302         3\n",
              "2 -0.358118  1.011009         5\n",
              "3 -0.115690  2.718044         3\n",
              "4  0.065723  1.024141         5"
            ]
          },
          "metadata": {
            "tags": []
          },
          "execution_count": 80
        }
      ]
    },
    {
      "cell_type": "code",
      "metadata": {
        "scrolled": false,
        "id": "L0gZkFz72Qn2",
        "colab": {
          "base_uri": "https://localhost:8080/"
        },
        "outputId": "bc69d69f-3df5-44ed-f36b-a8559725fa4a"
      },
      "source": [
        "reduced_data['clusters'].value_counts()"
      ],
      "execution_count": null,
      "outputs": [
        {
          "output_type": "execute_result",
          "data": {
            "text/plain": [
              "1    46\n",
              "4    39\n",
              "2    39\n",
              "0    34\n",
              "3    22\n",
              "5    20\n",
              "Name: clusters, dtype: int64"
            ]
          },
          "metadata": {
            "tags": []
          },
          "execution_count": 81
        }
      ]
    },
    {
      "cell_type": "code",
      "metadata": {
        "scrolled": true,
        "id": "S0sxvLFG2Qn2",
        "colab": {
          "base_uri": "https://localhost:8080/",
          "height": 590
        },
        "outputId": "28935d26-5ba1-4b07-d1e9-2edd87afbeb7"
      },
      "source": [
        "plt.figure(figsize=(6,4))\n",
        "sns.scatterplot(reduced_data.loc[reduced_data['clusters']==0, 'PC1'], reduced_data.loc[reduced_data['clusters']==0, 'PC2'],color='pink')\n",
        "sns.scatterplot(reduced_data.loc[reduced_data['clusters']==1, 'PC1'], reduced_data.loc[reduced_data['clusters']==1, 'PC2'],color='red')\n",
        "sns.scatterplot(reduced_data.loc[reduced_data['clusters']==2, 'PC1'], reduced_data.loc[reduced_data['clusters']==2, 'PC2'],color='orange')\n",
        "sns.scatterplot(reduced_data.loc[reduced_data['clusters']==3, 'PC1'], reduced_data.loc[reduced_data['clusters']==3, 'PC2'],color='blue')\n",
        "sns.scatterplot(reduced_data.loc[reduced_data['clusters']==4, 'PC1'], reduced_data.loc[reduced_data['clusters']==4, 'PC2'],color='violet')\n",
        "\n",
        "plt.legend(loc='best', bbox_to_anchor=(1.5, 1.5))\n",
        "plt.show()"
      ],
      "execution_count": null,
      "outputs": [
        {
          "output_type": "stream",
          "text": [
            "/usr/local/lib/python3.7/dist-packages/seaborn/_decorators.py:43: FutureWarning: Pass the following variables as keyword args: x, y. From version 0.12, the only valid positional argument will be `data`, and passing other arguments without an explicit keyword will result in an error or misinterpretation.\n",
            "  FutureWarning\n",
            "/usr/local/lib/python3.7/dist-packages/seaborn/_decorators.py:43: FutureWarning: Pass the following variables as keyword args: x, y. From version 0.12, the only valid positional argument will be `data`, and passing other arguments without an explicit keyword will result in an error or misinterpretation.\n",
            "  FutureWarning\n",
            "/usr/local/lib/python3.7/dist-packages/seaborn/_decorators.py:43: FutureWarning: Pass the following variables as keyword args: x, y. From version 0.12, the only valid positional argument will be `data`, and passing other arguments without an explicit keyword will result in an error or misinterpretation.\n",
            "  FutureWarning\n",
            "/usr/local/lib/python3.7/dist-packages/seaborn/_decorators.py:43: FutureWarning: Pass the following variables as keyword args: x, y. From version 0.12, the only valid positional argument will be `data`, and passing other arguments without an explicit keyword will result in an error or misinterpretation.\n",
            "  FutureWarning\n",
            "/usr/local/lib/python3.7/dist-packages/seaborn/_decorators.py:43: FutureWarning: Pass the following variables as keyword args: x, y. From version 0.12, the only valid positional argument will be `data`, and passing other arguments without an explicit keyword will result in an error or misinterpretation.\n",
            "  FutureWarning\n",
            "No handles with labels found to put in legend.\n"
          ],
          "name": "stderr"
        },
        {
          "output_type": "display_data",
          "data": {
            "image/png": "[encoded data removed]",
            "text/plain": [
              "<Figure size 432x288 with 1 Axes>"
            ]
          },
          "metadata": {
            "tags": [],
            "needs_background": "light"
          }
        }
      ]
    },
    {
      "cell_type": "markdown",
      "metadata": {
        "id": "rurX7BYz2Qn2"
      },
      "source": [
        "### Cách phân nhóm 1 người mới"
      ]
    },
    {
      "cell_type": "markdown",
      "metadata": {
        "id": "RBMlTm4M2Qn3"
      },
      "source": [
        "Ý tưởng của em là lập thành bảng gồm các nhóm và điểm trung tâm của các nhóm đó. Xong lấy data mới xem cái nào cách gần nhất với data đấy thì cho nó vào nhóm đó. "
      ]
    },
    {
      "cell_type": "code",
      "metadata": {
        "colab": {
          "base_uri": "https://localhost:8080/",
          "height": 204
        },
        "id": "116t0UP-iawx",
        "outputId": "90f63166-798e-43dd-f96a-c5aeaf8b2d8d"
      },
      "source": [
        "df.head()"
      ],
      "execution_count": null,
      "outputs": [
        {
          "output_type": "execute_result",
          "data": {
            "text/html": [
              "<div>\n",
              "<style scoped>\n",
              "    .dataframe tbody tr th:only-of-type {\n",
              "        vertical-align: middle;\n",
              "    }\n",
              "\n",
              "    .dataframe tbody tr th {\n",
              "        vertical-align: top;\n",
              "    }\n",
              "\n",
              "    .dataframe thead th {\n",
              "        text-align: right;\n",
              "    }\n",
              "</style>\n",
              "<table border=\"1\" class=\"dataframe\">\n",
              "  <thead>\n",
              "    <tr style=\"text-align: right;\">\n",
              "      <th></th>\n",
              "      <th>CustomerID</th>\n",
              "      <th>Gender</th>\n",
              "      <th>Age</th>\n",
              "      <th>Annual_Income</th>\n",
              "      <th>Spending_Score(1-100)</th>\n",
              "    </tr>\n",
              "  </thead>\n",
              "  <tbody>\n",
              "    <tr>\n",
              "      <th>0</th>\n",
              "      <td>1</td>\n",
              "      <td>Male</td>\n",
              "      <td>19</td>\n",
              "      <td>15</td>\n",
              "      <td>39</td>\n",
              "    </tr>\n",
              "    <tr>\n",
              "      <th>1</th>\n",
              "      <td>2</td>\n",
              "      <td>Male</td>\n",
              "      <td>21</td>\n",
              "      <td>15</td>\n",
              "      <td>81</td>\n",
              "    </tr>\n",
              "    <tr>\n",
              "      <th>2</th>\n",
              "      <td>3</td>\n",
              "      <td>Female</td>\n",
              "      <td>20</td>\n",
              "      <td>16</td>\n",
              "      <td>6</td>\n",
              "    </tr>\n",
              "    <tr>\n",
              "      <th>3</th>\n",
              "      <td>4</td>\n",
              "      <td>Female</td>\n",
              "      <td>23</td>\n",
              "      <td>16</td>\n",
              "      <td>77</td>\n",
              "    </tr>\n",
              "    <tr>\n",
              "      <th>4</th>\n",
              "      <td>5</td>\n",
              "      <td>Female</td>\n",
              "      <td>31</td>\n",
              "      <td>17</td>\n",
              "      <td>40</td>\n",
              "    </tr>\n",
              "  </tbody>\n",
              "</table>\n",
              "</div>"
            ],
            "text/plain": [
              "   CustomerID  Gender  Age  Annual_Income  Spending_Score(1-100)\n",
              "0           1    Male   19             15                     39\n",
              "1           2    Male   21             15                     81\n",
              "2           3  Female   20             16                      6\n",
              "3           4  Female   23             16                     77\n",
              "4           5  Female   31             17                     40"
            ]
          },
          "metadata": {
            "tags": []
          },
          "execution_count": 89
        }
      ]
    },
    {
      "cell_type": "code",
      "metadata": {
        "id": "pZdxE6LajpL7"
      },
      "source": [
        "df1 = df.append(new_client,ignore_index=True)"
      ],
      "execution_count": null,
      "outputs": []
    },
    {
      "cell_type": "code",
      "metadata": {
        "colab": {
          "base_uri": "https://localhost:8080/",
          "height": 80
        },
        "id": "XxYt0v8hkD2c",
        "outputId": "b7e1c5a3-048f-4895-e41f-f494f6b3b5aa"
      },
      "source": [
        "df2 = df1[df1['CustomerID']=='201']\n",
        "df2"
      ],
      "execution_count": null,
      "outputs": [
        {
          "output_type": "execute_result",
          "data": {
            "text/html": [
              "<div>\n",
              "<style scoped>\n",
              "    .dataframe tbody tr th:only-of-type {\n",
              "        vertical-align: middle;\n",
              "    }\n",
              "\n",
              "    .dataframe tbody tr th {\n",
              "        vertical-align: top;\n",
              "    }\n",
              "\n",
              "    .dataframe thead th {\n",
              "        text-align: right;\n",
              "    }\n",
              "</style>\n",
              "<table border=\"1\" class=\"dataframe\">\n",
              "  <thead>\n",
              "    <tr style=\"text-align: right;\">\n",
              "      <th></th>\n",
              "      <th>CustomerID</th>\n",
              "      <th>Gender</th>\n",
              "      <th>Age</th>\n",
              "      <th>Annual_Income</th>\n",
              "      <th>Spending_Score(1-100)</th>\n",
              "    </tr>\n",
              "  </thead>\n",
              "  <tbody>\n",
              "    <tr>\n",
              "      <th>200</th>\n",
              "      <td>201</td>\n",
              "      <td>Female</td>\n",
              "      <td>56</td>\n",
              "      <td>25</td>\n",
              "      <td>78</td>\n",
              "    </tr>\n",
              "  </tbody>\n",
              "</table>\n",
              "</div>"
            ],
            "text/plain": [
              "    CustomerID  Gender  Age  Annual_Income  Spending_Score(1-100)\n",
              "200        201  Female   56             25                     78"
            ]
          },
          "metadata": {
            "tags": []
          },
          "execution_count": 108
        }
      ]
    },
    {
      "cell_type": "code",
      "metadata": {
        "colab": {
          "base_uri": "https://localhost:8080/",
          "height": 80
        },
        "id": "L7vidzyUp52R",
        "outputId": "62781ff1-3542-428e-b3bb-f65f28fa88b5"
      },
      "source": [
        "variables2 = df2[['Age','Annual_Income','Spending_Score(1-100)']]\n",
        "variables2"
      ],
      "execution_count": null,
      "outputs": [
        {
          "output_type": "execute_result",
          "data": {
            "text/html": [
              "<div>\n",
              "<style scoped>\n",
              "    .dataframe tbody tr th:only-of-type {\n",
              "        vertical-align: middle;\n",
              "    }\n",
              "\n",
              "    .dataframe tbody tr th {\n",
              "        vertical-align: top;\n",
              "    }\n",
              "\n",
              "    .dataframe thead th {\n",
              "        text-align: right;\n",
              "    }\n",
              "</style>\n",
              "<table border=\"1\" class=\"dataframe\">\n",
              "  <thead>\n",
              "    <tr style=\"text-align: right;\">\n",
              "      <th></th>\n",
              "      <th>Age</th>\n",
              "      <th>Annual_Income</th>\n",
              "      <th>Spending_Score(1-100)</th>\n",
              "    </tr>\n",
              "  </thead>\n",
              "  <tbody>\n",
              "    <tr>\n",
              "      <th>200</th>\n",
              "      <td>56</td>\n",
              "      <td>25</td>\n",
              "      <td>78</td>\n",
              "    </tr>\n",
              "  </tbody>\n",
              "</table>\n",
              "</div>"
            ],
            "text/plain": [
              "     Age  Annual_Income  Spending_Score(1-100)\n",
              "200   56             25                     78"
            ]
          },
          "metadata": {
            "tags": []
          },
          "execution_count": 111
        }
      ]
    },
    {
      "cell_type": "code",
      "metadata": {
        "colab": {
          "base_uri": "https://localhost:8080/"
        },
        "id": "3phDQJmoqIJB",
        "outputId": "c8007b19-e93d-4a51-b6a4-de2625f1348a"
      },
      "source": [
        "KM_clusters.predict(variables2)"
      ],
      "execution_count": null,
      "outputs": [
        {
          "output_type": "execute_result",
          "data": {
            "text/plain": [
              "array([0], dtype=int32)"
            ]
          },
          "metadata": {
            "tags": []
          },
          "execution_count": 140
        }
      ]
    },
    {
      "cell_type": "markdown",
      "metadata": {
        "id": "cUngStwswxJ-"
      },
      "source": [
        "Khách hàng mới add vào này thuộc nhóm 0"
      ]
    },
    {
      "cell_type": "code",
      "metadata": {
        "id": "0tEy0UGotSPY"
      },
      "source": [
        "new_client2 = {'CustomerID':202,'Gender':'Male','Age':20,'Annual_Income':17,'Spending_Score(1-100)':20}"
      ],
      "execution_count": null,
      "outputs": []
    },
    {
      "cell_type": "code",
      "metadata": {
        "id": "zbnO7xg4tjdQ"
      },
      "source": [
        "df = df.append(new_client2,ignore_index=True)"
      ],
      "execution_count": null,
      "outputs": []
    },
    {
      "cell_type": "code",
      "metadata": {
        "colab": {
          "base_uri": "https://localhost:8080/",
          "height": 80
        },
        "id": "iild-ODWtnck",
        "outputId": "c2e855a4-68b0-4ec3-849b-63f3255cfb5f"
      },
      "source": [
        "df3 = df[df['CustomerID']== 202]"
      ],
      "execution_count": null,
      "outputs": [
        {
          "output_type": "execute_result",
          "data": {
            "text/html": [
              "<div>\n",
              "<style scoped>\n",
              "    .dataframe tbody tr th:only-of-type {\n",
              "        vertical-align: middle;\n",
              "    }\n",
              "\n",
              "    .dataframe tbody tr th {\n",
              "        vertical-align: top;\n",
              "    }\n",
              "\n",
              "    .dataframe thead th {\n",
              "        text-align: right;\n",
              "    }\n",
              "</style>\n",
              "<table border=\"1\" class=\"dataframe\">\n",
              "  <thead>\n",
              "    <tr style=\"text-align: right;\">\n",
              "      <th></th>\n",
              "      <th>CustomerID</th>\n",
              "      <th>Gender</th>\n",
              "      <th>Age</th>\n",
              "      <th>Annual_Income</th>\n",
              "      <th>Spending_Score(1-100)</th>\n",
              "    </tr>\n",
              "  </thead>\n",
              "  <tbody>\n",
              "    <tr>\n",
              "      <th>201</th>\n",
              "      <td>202</td>\n",
              "      <td>Male</td>\n",
              "      <td>20</td>\n",
              "      <td>17</td>\n",
              "      <td>20</td>\n",
              "    </tr>\n",
              "  </tbody>\n",
              "</table>\n",
              "</div>"
            ],
            "text/plain": [
              "    CustomerID Gender  Age  Annual_Income  Spending_Score(1-100)\n",
              "201        202   Male   20             17                     20"
            ]
          },
          "metadata": {
            "tags": []
          },
          "execution_count": 129
        }
      ]
    },
    {
      "cell_type": "code",
      "metadata": {
        "colab": {
          "base_uri": "https://localhost:8080/",
          "height": 80
        },
        "id": "NvMzB83HuROy",
        "outputId": "7899f9b4-a838-4271-d249-33e17df83eb9"
      },
      "source": [
        "variables3 = df3[['Age','Annual_Income','Spending_Score(1-100)']]\n",
        "variables3"
      ],
      "execution_count": null,
      "outputs": [
        {
          "output_type": "execute_result",
          "data": {
            "text/html": [
              "<div>\n",
              "<style scoped>\n",
              "    .dataframe tbody tr th:only-of-type {\n",
              "        vertical-align: middle;\n",
              "    }\n",
              "\n",
              "    .dataframe tbody tr th {\n",
              "        vertical-align: top;\n",
              "    }\n",
              "\n",
              "    .dataframe thead th {\n",
              "        text-align: right;\n",
              "    }\n",
              "</style>\n",
              "<table border=\"1\" class=\"dataframe\">\n",
              "  <thead>\n",
              "    <tr style=\"text-align: right;\">\n",
              "      <th></th>\n",
              "      <th>Age</th>\n",
              "      <th>Annual_Income</th>\n",
              "      <th>Spending_Score(1-100)</th>\n",
              "    </tr>\n",
              "  </thead>\n",
              "  <tbody>\n",
              "    <tr>\n",
              "      <th>201</th>\n",
              "      <td>20</td>\n",
              "      <td>17</td>\n",
              "      <td>20</td>\n",
              "    </tr>\n",
              "  </tbody>\n",
              "</table>\n",
              "</div>"
            ],
            "text/plain": [
              "     Age  Annual_Income  Spending_Score(1-100)\n",
              "201   20             17                     20"
            ]
          },
          "metadata": {
            "tags": []
          },
          "execution_count": 142
        }
      ]
    },
    {
      "cell_type": "code",
      "metadata": {
        "colab": {
          "base_uri": "https://localhost:8080/"
        },
        "id": "baZZzAVGtwXm",
        "outputId": "29d2b57e-b130-452a-b9b0-fbd26cea1f85"
      },
      "source": [
        "KM_clusters.predict(variables3)"
      ],
      "execution_count": null,
      "outputs": [
        {
          "output_type": "execute_result",
          "data": {
            "text/plain": [
              "array([4], dtype=int32)"
            ]
          },
          "metadata": {
            "tags": []
          },
          "execution_count": 143
        }
      ]
    },
    {
      "cell_type": "markdown",
      "metadata": {
        "id": "sDODtZu_w3RF"
      },
      "source": [
        "Khách hàng này thuộc nhóm 4"
      ]
    },
    {
      "cell_type": "code",
      "metadata": {
        "colab": {
          "base_uri": "https://localhost:8080/"
        },
        "id": "w6npUsfruPUK",
        "outputId": "c052a529-21dd-49da-fa6a-c9d92b0d440f"
      },
      "source": [
        "KM_clusters.cluster_centers_"
      ],
      "execution_count": null,
      "outputs": [
        {
          "output_type": "execute_result",
          "data": {
            "text/plain": [
              "array([[25.27272727, 25.72727273, 79.36363636],\n",
              "       [41.68571429, 88.22857143, 17.28571429],\n",
              "       [56.15555556, 53.37777778, 49.08888889],\n",
              "       [27.        , 56.65789474, 49.13157895],\n",
              "       [44.14285714, 25.14285714, 19.52380952],\n",
              "       [32.69230769, 86.53846154, 82.12820513]])"
            ]
          },
          "metadata": {
            "tags": []
          },
          "execution_count": 141
        }
      ]
    },
    {
      "cell_type": "code",
      "metadata": {
        "id": "5FjEAxDPwjSv"
      },
      "source": [
        ""
      ],
      "execution_count": null,
      "outputs": []
    }
  ]
}